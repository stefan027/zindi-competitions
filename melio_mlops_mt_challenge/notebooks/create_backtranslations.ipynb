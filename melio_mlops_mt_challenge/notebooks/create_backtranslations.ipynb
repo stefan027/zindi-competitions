{
 "cells": [
  {
   "cell_type": "markdown",
   "id": "2f8afe31-15f1-4986-a538-bd37532d196d",
   "metadata": {},
   "source": [
    "# Create back-translations\n",
    "\n",
    "Create back-translations from a source language to a target language using multinomial sampling."
   ]
  },
  {
   "cell_type": "markdown",
   "id": "37c93c1f-9e9f-4085-a57b-b07175034dd4",
   "metadata": {},
   "source": [
    "## Setup environment"
   ]
  },
  {
   "cell_type": "markdown",
   "id": "d3f7d68b-f9e4-49a1-8aac-7151de60827b",
   "metadata": {},
   "source": [
    "Restart the kernel after you have installed packages with `pip install` in the Notebook cell below."
   ]
  },
  {
   "cell_type": "code",
   "execution_count": 1,
   "id": "91fbccde-e9a8-4f61-a7a1-17c126f31337",
   "metadata": {
    "tags": []
   },
   "outputs": [
    {
     "name": "stdout",
     "output_type": "stream",
     "text": [
      "\u001b[33mWARNING: Running pip as the 'root' user can result in broken permissions and conflicting behaviour with the system package manager. It is recommended to use a virtual environment instead: https://pip.pypa.io/warnings/venv\u001b[0m\u001b[33m\n",
      "\u001b[0m"
     ]
    }
   ],
   "source": [
    "!pip install -q -U sentencepiece transformers datasets sacrebleu lxml sentence-transformers accelerate fastai"
   ]
  },
  {
   "cell_type": "code",
   "execution_count": 2,
   "id": "6a9d55ce-9668-4390-99f1-2ba471376263",
   "metadata": {
    "tags": []
   },
   "outputs": [
    {
     "data": {
      "application/vnd.jupyter.widget-view+json": {
       "model_id": "47b1eaaf84b049669475efd8ddca180f",
       "version_major": 2,
       "version_minor": 0
      },
      "text/plain": [
       "VBox(children=(HTML(value='<center> <img\\nsrc=https://huggingface.co/front/assets/huggingface_logo-noborder.sv…"
      ]
     },
     "metadata": {},
     "output_type": "display_data"
    }
   ],
   "source": [
    "from huggingface_hub import notebook_login\n",
    "notebook_login(new_session=False)"
   ]
  },
  {
   "cell_type": "markdown",
   "id": "1ed4db79-7721-4f4f-ac68-ab830e91f1e1",
   "metadata": {},
   "source": [
    "## Imports, config, etc"
   ]
  },
  {
   "cell_type": "code",
   "execution_count": 3,
   "id": "ab9a0ad0-911a-4189-b46f-86340f9cc3b4",
   "metadata": {
    "tags": []
   },
   "outputs": [],
   "source": [
    "import os\n",
    "import torch\n",
    "from transformers import NllbTokenizer, AutoModelForSeq2SeqLM\n",
    "from datasets import load_dataset\n",
    "import pandas as pd\n",
    "import json\n",
    "\n",
    "from utils import cleanup, set_seed\n",
    "from translation import translate, back_translate"
   ]
  },
  {
   "cell_type": "code",
   "execution_count": 4,
   "id": "501d95fd-6043-463e-a669-666add471ea3",
   "metadata": {
    "tags": []
   },
   "outputs": [],
   "source": [
    "RANDOM_SEED = 27  # Set `RANDOM_SEED = None` to run without a seed"
   ]
  },
  {
   "cell_type": "code",
   "execution_count": 5,
   "id": "dddd42f4-d834-4996-9585-61c58fc16a7b",
   "metadata": {
    "tags": []
   },
   "outputs": [],
   "source": [
    "if RANDOM_SEED is not None:\n",
    "    set_seed(RANDOM_SEED, reproducible=True)"
   ]
  },
  {
   "cell_type": "code",
   "execution_count": 6,
   "id": "047fae9f-e159-4e24-9850-8778b74df58e",
   "metadata": {
    "tags": []
   },
   "outputs": [],
   "source": [
    "def _save(savedir=\"./data\", df=None, json_data=None, split=\"\"):\n",
    "    if df is None and json_data is None:\n",
    "        print(\"Nothing to save\")\n",
    "        return None\n",
    "\n",
    "    if not os.path.exists(\"./data\"):\n",
    "        os.mkdir(\"data\")\n",
    "\n",
    "    if df is not None:\n",
    "        _ = df_bt.to_csv(f\"data/dataset_bt_{DATA_SPLIT}.txt\", sep=\"|\", index=False)\n",
    "\n",
    "    if json_data is not None:\n",
    "        with open(f\"data/dataset_bt_{DATA_SPLIT}.json\", \"w\") as f:\n",
    "            json.dump(back_translations_json, f, indent=4)"
   ]
  },
  {
   "cell_type": "markdown",
   "id": "c7d66432-24dd-451c-be24-76011efe75c4",
   "metadata": {},
   "source": [
    "## Load dataset"
   ]
  },
  {
   "cell_type": "code",
   "execution_count": 7,
   "id": "eebd932a-3e27-4e6a-8b58-9992c5131b9d",
   "metadata": {
    "tags": []
   },
   "outputs": [
    {
     "data": {
      "application/vnd.jupyter.widget-view+json": {
       "model_id": "b9f1bcde7d024dbe9180f92a1f9d641a",
       "version_major": 2,
       "version_minor": 0
      },
      "text/plain": [
       "Downloading readme:   0%|          | 0.00/1.80k [00:00<?, ?B/s]"
      ]
     },
     "metadata": {},
     "output_type": "display_data"
    },
    {
     "data": {
      "application/vnd.jupyter.widget-view+json": {
       "model_id": "b18e1730095544d28eec1d1f39539263",
       "version_major": 2,
       "version_minor": 0
      },
      "text/plain": [
       "Downloading data:   0%|          | 0.00/530k [00:00<?, ?B/s]"
      ]
     },
     "metadata": {},
     "output_type": "display_data"
    },
    {
     "data": {
      "application/vnd.jupyter.widget-view+json": {
       "model_id": "2955dbc2f0f546bd8e4335985ca776e3",
       "version_major": 2,
       "version_minor": 0
      },
      "text/plain": [
       "Downloading data:   0%|          | 0.00/102k [00:00<?, ?B/s]"
      ]
     },
     "metadata": {},
     "output_type": "display_data"
    },
    {
     "data": {
      "application/vnd.jupyter.widget-view+json": {
       "model_id": "003172314a654bd3a7ef44fe1a64ea4d",
       "version_major": 2,
       "version_minor": 0
      },
      "text/plain": [
       "Downloading data:   0%|          | 0.00/55.8k [00:00<?, ?B/s]"
      ]
     },
     "metadata": {},
     "output_type": "display_data"
    },
    {
     "data": {
      "application/vnd.jupyter.widget-view+json": {
       "model_id": "9ba700a4ff284b2eabad2992c80083f3",
       "version_major": 2,
       "version_minor": 0
      },
      "text/plain": [
       "Generating train split:   0%|          | 0/8065 [00:00<?, ? examples/s]"
      ]
     },
     "metadata": {},
     "output_type": "display_data"
    },
    {
     "data": {
      "application/vnd.jupyter.widget-view+json": {
       "model_id": "a973a78b05e24b5db2c8937bd2d9bbbf",
       "version_major": 2,
       "version_minor": 0
      },
      "text/plain": [
       "Generating validation split:   0%|          | 0/1471 [00:00<?, ? examples/s]"
      ]
     },
     "metadata": {},
     "output_type": "display_data"
    },
    {
     "data": {
      "application/vnd.jupyter.widget-view+json": {
       "model_id": "8089e4bd1149476693f693ff3f1db174",
       "version_major": 2,
       "version_minor": 0
      },
      "text/plain": [
       "Generating test split:   0%|          | 0/1393 [00:00<?, ? examples/s]"
      ]
     },
     "metadata": {},
     "output_type": "display_data"
    }
   ],
   "source": [
    "ds = load_dataset(\"uvci/Koumankan_mt_dyu_fr\")"
   ]
  },
  {
   "cell_type": "markdown",
   "id": "88bdf35a-9457-4f9a-bed0-ae4b7b8ae965",
   "metadata": {},
   "source": [
    "Save a data locally as json files for ease of access later:"
   ]
  },
  {
   "cell_type": "code",
   "execution_count": 8,
   "id": "ffb8e0fb-4e5d-4071-b102-9e613fef58e2",
   "metadata": {
    "tags": []
   },
   "outputs": [],
   "source": [
    "if not os.path.exists(\"./data\"):\n",
    "    os.mkdir(\"data\")\n",
    "\n",
    "for split in (\"train\", \"validation\", \"test\"):\n",
    "    d = {\n",
    "        \"split\": split,\n",
    "        \"data\": [{\n",
    "            \"ID\": row[\"ID\"], \"translation\": {\n",
    "                \"dyu\": row[\"translation\"][\"dyu\"],\n",
    "                \"fr\": row[\"translation\"][\"fr\"]\n",
    "            }} for row in ds[split]\n",
    "        ]\n",
    "    }\n",
    "    with open(f\"data/dataset_{split}.json\", \"w\") as f:\n",
    "        json.dump(d, f, indent=4)"
   ]
  },
  {
   "cell_type": "markdown",
   "id": "0a594a13-8058-48d8-b0f0-07cfb1fa14d0",
   "metadata": {},
   "source": [
    "## Create back-translations from the training data\n",
    "\n",
    "Create back-translations from a source language (`src_lang`) to a target language (`tgt_lang`) using multinomial sampling. If `sample_src==True` then a source language to source language 'translation' is first generated to create more diverse training examples.\n",
    "\n",
    "We loop over the `backtranslate` function several times to create more diverse translation examples through sampling."
   ]
  },
  {
   "cell_type": "code",
   "execution_count": 9,
   "id": "99246b04-8dd0-49a7-92d1-2a4f0fe86954",
   "metadata": {
    "tags": []
   },
   "outputs": [],
   "source": [
    "MODEL_ID = './saved_models/fra-dyu-600M'\n",
    "DATA_SPLIT = \"train\"\n",
    "SRC_LANG = \"fra_Latn\"\n",
    "TGT_LANG = \"dyu_Latn\"\n",
    "SRC2SRC_SAMPLING = True\n",
    "SRC2SRC_MODEL_ID = \"facebook/nllb-200-distilled-1.3B\""
   ]
  },
  {
   "cell_type": "code",
   "execution_count": 10,
   "id": "a77aec2d-addd-49b8-be1f-fc5c59c384d3",
   "metadata": {
    "tags": []
   },
   "outputs": [
    {
     "name": "stdout",
     "output_type": "stream",
     "text": [
      "Memory footprint: 0.68GB\n"
     ]
    },
    {
     "data": {
      "application/vnd.jupyter.widget-view+json": {
       "model_id": "85e014ecdd0a4b49b728a8910bf6f096",
       "version_major": 2,
       "version_minor": 0
      },
      "text/plain": [
       "tokenizer_config.json:   0%|          | 0.00/564 [00:00<?, ?B/s]"
      ]
     },
     "metadata": {},
     "output_type": "display_data"
    },
    {
     "data": {
      "application/vnd.jupyter.widget-view+json": {
       "model_id": "a9ed948ffdaf4997b99d68c90f4935ca",
       "version_major": 2,
       "version_minor": 0
      },
      "text/plain": [
       "sentencepiece.bpe.model:   0%|          | 0.00/4.85M [00:00<?, ?B/s]"
      ]
     },
     "metadata": {},
     "output_type": "display_data"
    },
    {
     "data": {
      "application/vnd.jupyter.widget-view+json": {
       "model_id": "ea6071655a4f4f1e854b0d22a1a67f1c",
       "version_major": 2,
       "version_minor": 0
      },
      "text/plain": [
       "special_tokens_map.json:   0%|          | 0.00/3.55k [00:00<?, ?B/s]"
      ]
     },
     "metadata": {},
     "output_type": "display_data"
    },
    {
     "data": {
      "application/vnd.jupyter.widget-view+json": {
       "model_id": "ba4493ef3edc4f86bf3dc61cd7524d75",
       "version_major": 2,
       "version_minor": 0
      },
      "text/plain": [
       "tokenizer.json:   0%|          | 0.00/17.3M [00:00<?, ?B/s]"
      ]
     },
     "metadata": {},
     "output_type": "display_data"
    },
    {
     "name": "stderr",
     "output_type": "stream",
     "text": [
      "/usr/local/lib/python3.11/dist-packages/transformers/tokenization_utils_base.py:1601: FutureWarning: `clean_up_tokenization_spaces` was not set. It will be set to `True` by default. This behavior will be depracted in transformers v4.45, and will be then set to `False` by default. For more details check this issue: https://github.com/huggingface/transformers/issues/31884\n",
      "  warnings.warn(\n"
     ]
    },
    {
     "data": {
      "application/vnd.jupyter.widget-view+json": {
       "model_id": "1b90a6542aeb47bd81e6c762f8d7f8c0",
       "version_major": 2,
       "version_minor": 0
      },
      "text/plain": [
       "config.json:   0%|          | 0.00/808 [00:00<?, ?B/s]"
      ]
     },
     "metadata": {},
     "output_type": "display_data"
    },
    {
     "data": {
      "application/vnd.jupyter.widget-view+json": {
       "model_id": "eaf5e8febda44ed0a62dc14d1b2c0119",
       "version_major": 2,
       "version_minor": 0
      },
      "text/plain": [
       "pytorch_model.bin:   0%|          | 0.00/5.48G [00:00<?, ?B/s]"
      ]
     },
     "metadata": {},
     "output_type": "display_data"
    },
    {
     "name": "stderr",
     "output_type": "stream",
     "text": [
      "/usr/local/lib/python3.11/dist-packages/torch/_utils.py:831: UserWarning: TypedStorage is deprecated. It will be removed in the future and UntypedStorage will be the only storage class. This should only matter to you if you are using storages directly.  To access UntypedStorage directly, use tensor.untyped_storage() instead of tensor.storage()\n",
      "  return self.fget.__get__(instance, owner)()\n"
     ]
    },
    {
     "data": {
      "application/vnd.jupyter.widget-view+json": {
       "model_id": "72edab3e806446cca7471976733f80c9",
       "version_major": 2,
       "version_minor": 0
      },
      "text/plain": [
       "generation_config.json:   0%|          | 0.00/189 [00:00<?, ?B/s]"
      ]
     },
     "metadata": {},
     "output_type": "display_data"
    },
    {
     "name": "stdout",
     "output_type": "stream",
     "text": [
      "Memory footprint: 2.56GB\n"
     ]
    }
   ],
   "source": [
    "tokenizer = NllbTokenizer.from_pretrained(MODEL_ID, src_lang=SRC_LANG, tgt_lang=TGT_LANG)\n",
    "model = AutoModelForSeq2SeqLM.from_pretrained(MODEL_ID, device_map=\"cuda\", torch_dtype=torch.bfloat16)\n",
    "print(f\"Memory footprint: {model.get_memory_footprint() / 1024**3 :.2f}GB\")\n",
    "\n",
    "if SRC2SRC_SAMPLING and SRC2SRC_MODEL_ID is not None:\n",
    "    src2src_tokenizer = NllbTokenizer.from_pretrained(SRC2SRC_MODEL_ID, src_lang=SRC_LANG, tgt_lang=TGT_LANG)\n",
    "    src2src_model = AutoModelForSeq2SeqLM.from_pretrained(SRC2SRC_MODEL_ID, device_map=\"cuda\", torch_dtype=torch.bfloat16)\n",
    "    print(f\"Memory footprint: {src2src_model.get_memory_footprint() / 1024**3 :.2f}GB\")"
   ]
  },
  {
   "cell_type": "code",
   "execution_count": 11,
   "id": "f4929abf-42d7-46e5-92f8-23d173a8b506",
   "metadata": {
    "tags": []
   },
   "outputs": [
    {
     "data": {
      "application/vnd.jupyter.widget-view+json": {
       "model_id": "ca3ee6ea0218491a9a436fbd5169de70",
       "version_major": 2,
       "version_minor": 0
      },
      "text/plain": [
       "  0%|          | 0/8065 [00:00<?, ?it/s]"
      ]
     },
     "metadata": {},
     "output_type": "display_data"
    },
    {
     "name": "stderr",
     "output_type": "stream",
     "text": [
      "2024-08-29 21:59:43.033859: E external/local_xla/xla/stream_executor/cuda/cuda_dnn.cc:9261] Unable to register cuDNN factory: Attempting to register factory for plugin cuDNN when one has already been registered\n",
      "2024-08-29 21:59:43.033920: E external/local_xla/xla/stream_executor/cuda/cuda_fft.cc:607] Unable to register cuFFT factory: Attempting to register factory for plugin cuFFT when one has already been registered\n",
      "2024-08-29 21:59:43.035068: E external/local_xla/xla/stream_executor/cuda/cuda_blas.cc:1515] Unable to register cuBLAS factory: Attempting to register factory for plugin cuBLAS when one has already been registered\n",
      "2024-08-29 21:59:43.041022: I tensorflow/core/platform/cpu_feature_guard.cc:182] This TensorFlow binary is optimized to use available CPU instructions in performance-critical operations.\n",
      "To enable the following instructions: AVX2 FMA, in other operations, rebuild TensorFlow with the appropriate compiler flags.\n",
      "2024-08-29 21:59:43.841489: W tensorflow/compiler/tf2tensorrt/utils/py_utils.cc:38] TF-TRT Warning: Could not find TensorRT\n"
     ]
    },
    {
     "data": {
      "application/vnd.jupyter.widget-view+json": {
       "model_id": "9814be9d1086406e9df920811fab7925",
       "version_major": 2,
       "version_minor": 0
      },
      "text/plain": [
       "  0%|          | 0/8065 [00:00<?, ?it/s]"
      ]
     },
     "metadata": {},
     "output_type": "display_data"
    },
    {
     "data": {
      "application/vnd.jupyter.widget-view+json": {
       "model_id": "1e91d6a57df04d2e8ff28dbe3aabc1b4",
       "version_major": 2,
       "version_minor": 0
      },
      "text/plain": [
       "  0%|          | 0/8065 [00:00<?, ?it/s]"
      ]
     },
     "metadata": {},
     "output_type": "display_data"
    },
    {
     "data": {
      "application/vnd.jupyter.widget-view+json": {
       "model_id": "b81dbdcbf5e54cffb60a0791a50d6b5e",
       "version_major": 2,
       "version_minor": 0
      },
      "text/plain": [
       "  0%|          | 0/8065 [00:00<?, ?it/s]"
      ]
     },
     "metadata": {},
     "output_type": "display_data"
    },
    {
     "data": {
      "application/vnd.jupyter.widget-view+json": {
       "model_id": "c1918b77083c4516b7a8e5be5d0bdfd0",
       "version_major": 2,
       "version_minor": 0
      },
      "text/plain": [
       "  0%|          | 0/8065 [00:00<?, ?it/s]"
      ]
     },
     "metadata": {},
     "output_type": "display_data"
    },
    {
     "data": {
      "application/vnd.jupyter.widget-view+json": {
       "model_id": "d362a5f8d1504e60a3fb699391576270",
       "version_major": 2,
       "version_minor": 0
      },
      "text/plain": [
       "  0%|          | 0/8065 [00:00<?, ?it/s]"
      ]
     },
     "metadata": {},
     "output_type": "display_data"
    },
    {
     "data": {
      "application/vnd.jupyter.widget-view+json": {
       "model_id": "60bf08adcf7b4908a5db0aa6e6b1e076",
       "version_major": 2,
       "version_minor": 0
      },
      "text/plain": [
       "  0%|          | 0/8065 [00:00<?, ?it/s]"
      ]
     },
     "metadata": {},
     "output_type": "display_data"
    },
    {
     "data": {
      "application/vnd.jupyter.widget-view+json": {
       "model_id": "4404a0ce35954db9a9495ad74ef01516",
       "version_major": 2,
       "version_minor": 0
      },
      "text/plain": [
       "  0%|          | 0/8065 [00:00<?, ?it/s]"
      ]
     },
     "metadata": {},
     "output_type": "display_data"
    },
    {
     "data": {
      "application/vnd.jupyter.widget-view+json": {
       "model_id": "9fe4660834a1435d98332878fbdf7c9b",
       "version_major": 2,
       "version_minor": 0
      },
      "text/plain": [
       "  0%|          | 0/8065 [00:00<?, ?it/s]"
      ]
     },
     "metadata": {},
     "output_type": "display_data"
    },
    {
     "data": {
      "application/vnd.jupyter.widget-view+json": {
       "model_id": "69b18c276e4e4c7493e344b57e863cb4",
       "version_major": 2,
       "version_minor": 0
      },
      "text/plain": [
       "  0%|          | 0/8065 [00:00<?, ?it/s]"
      ]
     },
     "metadata": {},
     "output_type": "display_data"
    },
    {
     "data": {
      "application/vnd.jupyter.widget-view+json": {
       "model_id": "e873cbd9e7c24b7694053cc36644fdc4",
       "version_major": 2,
       "version_minor": 0
      },
      "text/plain": [
       "  0%|          | 0/8065 [00:00<?, ?it/s]"
      ]
     },
     "metadata": {},
     "output_type": "display_data"
    },
    {
     "data": {
      "application/vnd.jupyter.widget-view+json": {
       "model_id": "5f0b5b0ccb8a4c0db75d5dd85a992e8b",
       "version_major": 2,
       "version_minor": 0
      },
      "text/plain": [
       "  0%|          | 0/8065 [00:00<?, ?it/s]"
      ]
     },
     "metadata": {},
     "output_type": "display_data"
    },
    {
     "data": {
      "application/vnd.jupyter.widget-view+json": {
       "model_id": "eed599057d124096b1bc0b5265d8083a",
       "version_major": 2,
       "version_minor": 0
      },
      "text/plain": [
       "  0%|          | 0/8065 [00:00<?, ?it/s]"
      ]
     },
     "metadata": {},
     "output_type": "display_data"
    },
    {
     "data": {
      "application/vnd.jupyter.widget-view+json": {
       "model_id": "619239f154b74786afde80844417c7eb",
       "version_major": 2,
       "version_minor": 0
      },
      "text/plain": [
       "  0%|          | 0/8065 [00:00<?, ?it/s]"
      ]
     },
     "metadata": {},
     "output_type": "display_data"
    },
    {
     "data": {
      "application/vnd.jupyter.widget-view+json": {
       "model_id": "b7823f1060f64d58a1e96473c506c0d2",
       "version_major": 2,
       "version_minor": 0
      },
      "text/plain": [
       "  0%|          | 0/8065 [00:00<?, ?it/s]"
      ]
     },
     "metadata": {},
     "output_type": "display_data"
    }
   ],
   "source": [
    "back_translations = []\n",
    "src_translations = []\n",
    "\n",
    "for _ in range(15):\n",
    "    dyu, fra = back_translate(\n",
    "        ds, model, tokenizer, split=DATA_SPLIT, batch_size=64, src_lang=SRC_LANG,\n",
    "        tgt_lang=TGT_LANG, sample_src=SRC2SRC_SAMPLING, src2src_model=src2src_model,\n",
    "        src2src_tokenizer=src2src_tokenizer\n",
    "    )\n",
    "    back_translations += dyu\n",
    "    src_translations += fra"
   ]
  },
  {
   "cell_type": "code",
   "execution_count": 12,
   "id": "d7a14015-b233-45f2-ac42-15e03b610739",
   "metadata": {
    "tags": []
   },
   "outputs": [],
   "source": [
    "assert len(back_translations) == len(src_translations)"
   ]
  },
  {
   "cell_type": "code",
   "execution_count": 13,
   "id": "2d171d64-5012-4c2c-bf30-4cc2f7469cea",
   "metadata": {
    "tags": []
   },
   "outputs": [
    {
     "data": {
      "text/html": [
       "<div>\n",
       "<style scoped>\n",
       "    .dataframe tbody tr th:only-of-type {\n",
       "        vertical-align: middle;\n",
       "    }\n",
       "\n",
       "    .dataframe tbody tr th {\n",
       "        vertical-align: top;\n",
       "    }\n",
       "\n",
       "    .dataframe thead th {\n",
       "        text-align: right;\n",
       "    }\n",
       "</style>\n",
       "<table border=\"1\" class=\"dataframe\">\n",
       "  <thead>\n",
       "    <tr style=\"text-align: right;\">\n",
       "      <th></th>\n",
       "      <th>dyu</th>\n",
       "      <th>fr</th>\n",
       "    </tr>\n",
       "  </thead>\n",
       "  <tbody>\n",
       "    <tr>\n",
       "      <th>0</th>\n",
       "      <td>a bi ji min na</td>\n",
       "      <td>il boit de l'eau</td>\n",
       "    </tr>\n",
       "    <tr>\n",
       "      <th>1</th>\n",
       "      <td>a bi dalakolora lonbɛ</td>\n",
       "      <td>il se plaint toujours</td>\n",
       "    </tr>\n",
       "    <tr>\n",
       "      <th>2</th>\n",
       "      <td>ko komi fɛn</td>\n",
       "      <td>que comme quelque</td>\n",
       "    </tr>\n",
       "    <tr>\n",
       "      <th>3</th>\n",
       "      <td>bɛɛ bi bɔ gubeta kɔ</td>\n",
       "      <td>tout le monde sort sauf gubetta</td>\n",
       "    </tr>\n",
       "    <tr>\n",
       "      <th>4</th>\n",
       "      <td>ale le bi mankan kɛra</td>\n",
       "      <td>c'est lui  il sonne</td>\n",
       "    </tr>\n",
       "    <tr>\n",
       "      <th>...</th>\n",
       "      <td>...</td>\n",
       "      <td>...</td>\n",
       "    </tr>\n",
       "    <tr>\n",
       "      <th>120962</th>\n",
       "      <td>nin maɲi</td>\n",
       "      <td>c'est pas bien cela</td>\n",
       "    </tr>\n",
       "    <tr>\n",
       "      <th>120964</th>\n",
       "      <td>kamele belebeleba ni barakamanw</td>\n",
       "      <td>des mecs grands et forts</td>\n",
       "    </tr>\n",
       "    <tr>\n",
       "      <th>120968</th>\n",
       "      <td>sira binani ni binani</td>\n",
       "      <td>mille sept cent soixante sept de deyrier route...</td>\n",
       "    </tr>\n",
       "    <tr>\n",
       "      <th>120969</th>\n",
       "      <td>bi zan jara kalanso ra</td>\n",
       "      <td>aujourd'hui à l'école jean jaures</td>\n",
       "    </tr>\n",
       "    <tr>\n",
       "      <th>120973</th>\n",
       "      <td>jigi senw kan</td>\n",
       "      <td>descend les jambes</td>\n",
       "    </tr>\n",
       "  </tbody>\n",
       "</table>\n",
       "<p>84156 rows × 2 columns</p>\n",
       "</div>"
      ],
      "text/plain": [
       "                                    dyu  \\\n",
       "0                        a bi ji min na   \n",
       "1                 a bi dalakolora lonbɛ   \n",
       "2                           ko komi fɛn   \n",
       "3                   bɛɛ bi bɔ gubeta kɔ   \n",
       "4                 ale le bi mankan kɛra   \n",
       "...                                 ...   \n",
       "120962                         nin maɲi   \n",
       "120964  kamele belebeleba ni barakamanw   \n",
       "120968            sira binani ni binani   \n",
       "120969           bi zan jara kalanso ra   \n",
       "120973                    jigi senw kan   \n",
       "\n",
       "                                                       fr  \n",
       "0                                        il boit de l'eau  \n",
       "1                                   il se plaint toujours  \n",
       "2                                       que comme quelque  \n",
       "3                         tout le monde sort sauf gubetta  \n",
       "4                                     c'est lui  il sonne  \n",
       "...                                                   ...  \n",
       "120962                                c'est pas bien cela  \n",
       "120964                           des mecs grands et forts  \n",
       "120968  mille sept cent soixante sept de deyrier route...  \n",
       "120969                  aujourd'hui à l'école jean jaures  \n",
       "120973                                 descend les jambes  \n",
       "\n",
       "[84156 rows x 2 columns]"
      ]
     },
     "execution_count": 13,
     "metadata": {},
     "output_type": "execute_result"
    }
   ],
   "source": [
    "df_bt = pd.DataFrame({\"dyu\": back_translations, \"fr\": src_translations}).drop_duplicates()\n",
    "df_bt"
   ]
  },
  {
   "cell_type": "code",
   "execution_count": 14,
   "id": "f0fbb8ca-a1f1-47b3-bc44-1eee56d3dd1e",
   "metadata": {
    "tags": []
   },
   "outputs": [],
   "source": [
    "back_translations_json = {\n",
    "    \"split\": DATA_SPLIT,\n",
    "    \"data\": [{\"ID\": 0, \"translation\": {\"dyu\": row[\"dyu\"], \"fr\": row[\"fr\"]}} for _, row in df_bt.iterrows()]\n",
    "}"
   ]
  },
  {
   "cell_type": "code",
   "execution_count": 15,
   "id": "980bbcbf-03b0-4abc-8bf3-437c99940a65",
   "metadata": {
    "tags": []
   },
   "outputs": [],
   "source": [
    "_save(savedir=\"./data\", df=df_bt, json_data=back_translations_json, split=DATA_SPLIT)"
   ]
  },
  {
   "cell_type": "code",
   "execution_count": 16,
   "id": "98aa91c6-dfe6-4b28-a640-d387524f7c8b",
   "metadata": {
    "tags": []
   },
   "outputs": [],
   "source": [
    "cleanup()"
   ]
  },
  {
   "cell_type": "markdown",
   "id": "b51d3885-b2eb-47a7-a3d8-c9532e84df68",
   "metadata": {
    "tags": []
   },
   "source": [
    "## Create back-translations from the validation data\n",
    "\n",
    "Create back-translations from a source language (`src_lang`) to a target language (`tgt_lang`) using multinomial sampling. If `sample_src==True` then a source language to source language 'translation' is first generated to create more diverse training examples.\n",
    "\n",
    "We loop over the `backtranslate` function several times to create more diverse translation examples through sampling."
   ]
  },
  {
   "cell_type": "code",
   "execution_count": 17,
   "id": "b72888e6-c367-438b-bac1-97c174bead7a",
   "metadata": {
    "tags": []
   },
   "outputs": [],
   "source": [
    "DATA_SPLIT = \"validation\""
   ]
  },
  {
   "cell_type": "code",
   "execution_count": 18,
   "id": "5e385782-2644-4bc4-9caf-b93600a18ba6",
   "metadata": {
    "tags": []
   },
   "outputs": [
    {
     "data": {
      "application/vnd.jupyter.widget-view+json": {
       "model_id": "0bb030086f00417b9f0a7591bb3e8e4f",
       "version_major": 2,
       "version_minor": 0
      },
      "text/plain": [
       "  0%|          | 0/1471 [00:00<?, ?it/s]"
      ]
     },
     "metadata": {},
     "output_type": "display_data"
    },
    {
     "data": {
      "application/vnd.jupyter.widget-view+json": {
       "model_id": "6b5a870747e7460f8181f5d9323924a4",
       "version_major": 2,
       "version_minor": 0
      },
      "text/plain": [
       "  0%|          | 0/1471 [00:00<?, ?it/s]"
      ]
     },
     "metadata": {},
     "output_type": "display_data"
    },
    {
     "data": {
      "application/vnd.jupyter.widget-view+json": {
       "model_id": "6822e3b81ac347e4890a57e4f531f6c8",
       "version_major": 2,
       "version_minor": 0
      },
      "text/plain": [
       "  0%|          | 0/1471 [00:00<?, ?it/s]"
      ]
     },
     "metadata": {},
     "output_type": "display_data"
    },
    {
     "data": {
      "application/vnd.jupyter.widget-view+json": {
       "model_id": "378455a965d2493c865869bdc29c1dbe",
       "version_major": 2,
       "version_minor": 0
      },
      "text/plain": [
       "  0%|          | 0/1471 [00:00<?, ?it/s]"
      ]
     },
     "metadata": {},
     "output_type": "display_data"
    },
    {
     "data": {
      "application/vnd.jupyter.widget-view+json": {
       "model_id": "4ed63eeda91f49abbef046bccfaa6046",
       "version_major": 2,
       "version_minor": 0
      },
      "text/plain": [
       "  0%|          | 0/1471 [00:00<?, ?it/s]"
      ]
     },
     "metadata": {},
     "output_type": "display_data"
    },
    {
     "data": {
      "application/vnd.jupyter.widget-view+json": {
       "model_id": "7c7970b534f349c0823b16db3b5fd1bf",
       "version_major": 2,
       "version_minor": 0
      },
      "text/plain": [
       "  0%|          | 0/1471 [00:00<?, ?it/s]"
      ]
     },
     "metadata": {},
     "output_type": "display_data"
    },
    {
     "data": {
      "application/vnd.jupyter.widget-view+json": {
       "model_id": "0e7188ecf06943c9af88ecd870dff1ea",
       "version_major": 2,
       "version_minor": 0
      },
      "text/plain": [
       "  0%|          | 0/1471 [00:00<?, ?it/s]"
      ]
     },
     "metadata": {},
     "output_type": "display_data"
    },
    {
     "data": {
      "application/vnd.jupyter.widget-view+json": {
       "model_id": "feb063ae1bd34cdcabfe341345d19009",
       "version_major": 2,
       "version_minor": 0
      },
      "text/plain": [
       "  0%|          | 0/1471 [00:00<?, ?it/s]"
      ]
     },
     "metadata": {},
     "output_type": "display_data"
    },
    {
     "data": {
      "application/vnd.jupyter.widget-view+json": {
       "model_id": "2a6dbe69c96e4c01b8f23f59cd1dd12c",
       "version_major": 2,
       "version_minor": 0
      },
      "text/plain": [
       "  0%|          | 0/1471 [00:00<?, ?it/s]"
      ]
     },
     "metadata": {},
     "output_type": "display_data"
    },
    {
     "data": {
      "application/vnd.jupyter.widget-view+json": {
       "model_id": "2819e587430a4f3da31a7fa2e52b52b4",
       "version_major": 2,
       "version_minor": 0
      },
      "text/plain": [
       "  0%|          | 0/1471 [00:00<?, ?it/s]"
      ]
     },
     "metadata": {},
     "output_type": "display_data"
    }
   ],
   "source": [
    "back_translations = []\n",
    "src_translations = []\n",
    "\n",
    "for _ in range(10):\n",
    "    dyu, fra = back_translate(\n",
    "        ds, model, tokenizer, split=DATA_SPLIT, batch_size=16, src_lang=SRC_LANG,\n",
    "        tgt_lang=TGT_LANG, sample_src=SRC2SRC_SAMPLING, src2src_model=src2src_model,\n",
    "        src2src_tokenizer=src2src_tokenizer\n",
    "    )\n",
    "    back_translations += dyu\n",
    "    src_translations += fra"
   ]
  },
  {
   "cell_type": "code",
   "execution_count": 19,
   "id": "56487ca1-4c8f-4b8e-b3e1-2b409db735f0",
   "metadata": {
    "tags": []
   },
   "outputs": [],
   "source": [
    "assert len(back_translations) == len(src_translations)"
   ]
  },
  {
   "cell_type": "code",
   "execution_count": 20,
   "id": "a3643854-5806-45d4-a202-0cae80ab67e4",
   "metadata": {
    "tags": []
   },
   "outputs": [
    {
     "data": {
      "text/html": [
       "<div>\n",
       "<style scoped>\n",
       "    .dataframe tbody tr th:only-of-type {\n",
       "        vertical-align: middle;\n",
       "    }\n",
       "\n",
       "    .dataframe tbody tr th {\n",
       "        vertical-align: top;\n",
       "    }\n",
       "\n",
       "    .dataframe thead th {\n",
       "        text-align: right;\n",
       "    }\n",
       "</style>\n",
       "<table border=\"1\" class=\"dataframe\">\n",
       "  <thead>\n",
       "    <tr style=\"text-align: right;\">\n",
       "      <th></th>\n",
       "      <th>dyu</th>\n",
       "      <th>fr</th>\n",
       "    </tr>\n",
       "  </thead>\n",
       "  <tbody>\n",
       "    <tr>\n",
       "      <th>0</th>\n",
       "      <td>i bi tɔgɔ diman le fɛ</td>\n",
       "      <td>tu porte un nom de fantaisie</td>\n",
       "    </tr>\n",
       "    <tr>\n",
       "      <th>1</th>\n",
       "      <td>ka taga ɲafɛ nin na saba</td>\n",
       "      <td>à trois points d'avance</td>\n",
       "    </tr>\n",
       "    <tr>\n",
       "      <th>2</th>\n",
       "      <td>tile bi wolola</td>\n",
       "      <td>le soleil est couché</td>\n",
       "    </tr>\n",
       "    <tr>\n",
       "      <th>3</th>\n",
       "      <td>a bi taga ni cogo kelen ye</td>\n",
       "      <td>dans le même mouvement</td>\n",
       "    </tr>\n",
       "    <tr>\n",
       "      <th>4</th>\n",
       "      <td>n ma dumini kɛ fɔlɔ</td>\n",
       "      <td>je n'ai pas encore déjeuné</td>\n",
       "    </tr>\n",
       "    <tr>\n",
       "      <th>...</th>\n",
       "      <td>...</td>\n",
       "      <td>...</td>\n",
       "    </tr>\n",
       "    <tr>\n",
       "      <th>14703</th>\n",
       "      <td>a tun ti yi kalo kelen kɔnɔ tuma dɔra</td>\n",
       "      <td>il était absent une semaine de temps en temps</td>\n",
       "    </tr>\n",
       "    <tr>\n",
       "      <th>14704</th>\n",
       "      <td>i ka sara ye juma le ye</td>\n",
       "      <td>quel est ton salaire</td>\n",
       "    </tr>\n",
       "    <tr>\n",
       "      <th>14706</th>\n",
       "      <td>gestɛl ka sira</td>\n",
       "      <td>rue de gestel</td>\n",
       "    </tr>\n",
       "    <tr>\n",
       "      <th>14708</th>\n",
       "      <td>a ye fo ka fo john fo n ye</td>\n",
       "      <td>dites au revoir à john de ma part</td>\n",
       "    </tr>\n",
       "    <tr>\n",
       "      <th>14709</th>\n",
       "      <td>ni an ye ɲanamaya kɛ tuguni an bi ni fresque f...</td>\n",
       "      <td>avec un peu de chance  il y a encore les fresq...</td>\n",
       "    </tr>\n",
       "  </tbody>\n",
       "</table>\n",
       "<p>11494 rows × 2 columns</p>\n",
       "</div>"
      ],
      "text/plain": [
       "                                                     dyu  \\\n",
       "0                                  i bi tɔgɔ diman le fɛ   \n",
       "1                               ka taga ɲafɛ nin na saba   \n",
       "2                                         tile bi wolola   \n",
       "3                             a bi taga ni cogo kelen ye   \n",
       "4                                    n ma dumini kɛ fɔlɔ   \n",
       "...                                                  ...   \n",
       "14703              a tun ti yi kalo kelen kɔnɔ tuma dɔra   \n",
       "14704                            i ka sara ye juma le ye   \n",
       "14706                                     gestɛl ka sira   \n",
       "14708                         a ye fo ka fo john fo n ye   \n",
       "14709  ni an ye ɲanamaya kɛ tuguni an bi ni fresque f...   \n",
       "\n",
       "                                                      fr  \n",
       "0                           tu porte un nom de fantaisie  \n",
       "1                                à trois points d'avance  \n",
       "2                                   le soleil est couché  \n",
       "3                                 dans le même mouvement  \n",
       "4                             je n'ai pas encore déjeuné  \n",
       "...                                                  ...  \n",
       "14703      il était absent une semaine de temps en temps  \n",
       "14704                               quel est ton salaire  \n",
       "14706                                      rue de gestel  \n",
       "14708                  dites au revoir à john de ma part  \n",
       "14709  avec un peu de chance  il y a encore les fresq...  \n",
       "\n",
       "[11494 rows x 2 columns]"
      ]
     },
     "execution_count": 20,
     "metadata": {},
     "output_type": "execute_result"
    }
   ],
   "source": [
    "df_bt = pd.DataFrame({\"dyu\": back_translations, \"fr\": src_translations}).drop_duplicates()\n",
    "df_bt"
   ]
  },
  {
   "cell_type": "code",
   "execution_count": 21,
   "id": "3030de05-82de-4e6a-a67c-aaa626d88fcf",
   "metadata": {
    "tags": []
   },
   "outputs": [],
   "source": [
    "back_translations_json = {\n",
    "    \"split\": DATA_SPLIT,\n",
    "    \"data\": [{\"ID\": 0, \"translation\": {\"dyu\": row[\"dyu\"], \"fr\": row[\"fr\"]}} for _, row in df_bt.iterrows()]\n",
    "}"
   ]
  },
  {
   "cell_type": "code",
   "execution_count": 22,
   "id": "cb297cd3-2da9-4c7f-87ee-0e29ed5a87ad",
   "metadata": {
    "tags": []
   },
   "outputs": [],
   "source": [
    "_save(savedir=\"./data\", df=df_bt, json_data=back_translations_json, split=DATA_SPLIT)"
   ]
  },
  {
   "cell_type": "code",
   "execution_count": 23,
   "id": "0b111fa8-b0bf-476c-8099-62c88e1bf76b",
   "metadata": {
    "tags": []
   },
   "outputs": [],
   "source": [
    "cleanup()"
   ]
  },
  {
   "cell_type": "markdown",
   "id": "d8df1549-d949-43f2-a5f6-901e87c91240",
   "metadata": {},
   "source": [
    "## Create back-translations from the test data\n",
    "\n",
    "Create back-translations from a source language (`src_lang`) to a target language (`tgt_lang`) using multinomial sampling. If `sample_src==True` then a source language to source language 'translation' is first generated to create more diverse training examples.\n",
    "\n",
    "We loop over the `backtranslate` function several times to create more diverse translation examples through sampling."
   ]
  },
  {
   "cell_type": "code",
   "execution_count": 24,
   "id": "4ff6dcc2-11d3-4eec-ad6a-5811d6d40eb3",
   "metadata": {
    "tags": []
   },
   "outputs": [],
   "source": [
    "MODEL_ID = './saved_models/dyu-fra-600M'\n",
    "DATA_SPLIT = \"test\"\n",
    "SRC_LANG = \"dyu_Latn\"\n",
    "TGT_LANG = \"fra_Latn\"\n",
    "SRC2SRC_SAMPLING = False\n",
    "SRC2SRC_MODEL_ID = None"
   ]
  },
  {
   "cell_type": "code",
   "execution_count": 25,
   "id": "c29b147e-7168-4e3d-95c7-6d31a059a7ba",
   "metadata": {
    "tags": []
   },
   "outputs": [
    {
     "name": "stdout",
     "output_type": "stream",
     "text": [
      "Memory footprint: 0.68GB\n"
     ]
    }
   ],
   "source": [
    "tokenizer = NllbTokenizer.from_pretrained(MODEL_ID, src_lang=SRC_LANG, tgt_lang=TGT_LANG)\n",
    "model = AutoModelForSeq2SeqLM.from_pretrained(MODEL_ID, device_map=\"cuda\", torch_dtype=torch.bfloat16)\n",
    "print(f\"Memory footprint: {model.get_memory_footprint() / 1024**3 :.2f}GB\")"
   ]
  },
  {
   "cell_type": "code",
   "execution_count": 26,
   "id": "d1b2b9c9-8f12-46cc-a861-87c26380fe45",
   "metadata": {
    "tags": []
   },
   "outputs": [
    {
     "data": {
      "application/vnd.jupyter.widget-view+json": {
       "model_id": "4f11ae6139ce4c7a98f91dbf3a582860",
       "version_major": 2,
       "version_minor": 0
      },
      "text/plain": [
       "  0%|          | 0/1393 [00:00<?, ?it/s]"
      ]
     },
     "metadata": {},
     "output_type": "display_data"
    },
    {
     "data": {
      "application/vnd.jupyter.widget-view+json": {
       "model_id": "686e2e943c3448abb2025b3f1b48cbee",
       "version_major": 2,
       "version_minor": 0
      },
      "text/plain": [
       "  0%|          | 0/1393 [00:00<?, ?it/s]"
      ]
     },
     "metadata": {},
     "output_type": "display_data"
    },
    {
     "data": {
      "application/vnd.jupyter.widget-view+json": {
       "model_id": "142cc194435f428d8484366a1abb20d5",
       "version_major": 2,
       "version_minor": 0
      },
      "text/plain": [
       "  0%|          | 0/1393 [00:00<?, ?it/s]"
      ]
     },
     "metadata": {},
     "output_type": "display_data"
    },
    {
     "data": {
      "application/vnd.jupyter.widget-view+json": {
       "model_id": "6e762ddf6c814a5eaf17d1179f7b0ad5",
       "version_major": 2,
       "version_minor": 0
      },
      "text/plain": [
       "  0%|          | 0/1393 [00:00<?, ?it/s]"
      ]
     },
     "metadata": {},
     "output_type": "display_data"
    },
    {
     "data": {
      "application/vnd.jupyter.widget-view+json": {
       "model_id": "2e0b85dfc9bf4763a6db2b82a8960448",
       "version_major": 2,
       "version_minor": 0
      },
      "text/plain": [
       "  0%|          | 0/1393 [00:00<?, ?it/s]"
      ]
     },
     "metadata": {},
     "output_type": "display_data"
    }
   ],
   "source": [
    "back_translations = []\n",
    "src_translations = []\n",
    "\n",
    "for _ in range(5):\n",
    "    dyu, fra = back_translate(\n",
    "        ds, model, tokenizer, split=DATA_SPLIT, batch_size=64, src_lang=SRC_LANG,\n",
    "        tgt_lang=TGT_LANG, sample_src=SRC2SRC_SAMPLING, src2src_model=src2src_model,\n",
    "        src2src_tokenizer=src2src_tokenizer\n",
    "    )\n",
    "    back_translations += dyu\n",
    "    src_translations += fra"
   ]
  },
  {
   "cell_type": "code",
   "execution_count": 27,
   "id": "7ed166d3-df8a-4268-b2f3-331876e480d7",
   "metadata": {
    "tags": []
   },
   "outputs": [],
   "source": [
    "assert len(back_translations) == len(src_translations)"
   ]
  },
  {
   "cell_type": "code",
   "execution_count": 28,
   "id": "c2e4f80d-4097-4e50-86ce-c782744d1be8",
   "metadata": {
    "tags": []
   },
   "outputs": [
    {
     "data": {
      "text/html": [
       "<div>\n",
       "<style scoped>\n",
       "    .dataframe tbody tr th:only-of-type {\n",
       "        vertical-align: middle;\n",
       "    }\n",
       "\n",
       "    .dataframe tbody tr th {\n",
       "        vertical-align: top;\n",
       "    }\n",
       "\n",
       "    .dataframe thead th {\n",
       "        text-align: right;\n",
       "    }\n",
       "</style>\n",
       "<table border=\"1\" class=\"dataframe\">\n",
       "  <thead>\n",
       "    <tr style=\"text-align: right;\">\n",
       "      <th></th>\n",
       "      <th>dyu</th>\n",
       "      <th>fr</th>\n",
       "    </tr>\n",
       "  </thead>\n",
       "  <tbody>\n",
       "    <tr>\n",
       "      <th>0</th>\n",
       "      <td>an kelen duron le tun be yi</td>\n",
       "      <td>nous étions seuls</td>\n",
       "    </tr>\n",
       "    <tr>\n",
       "      <th>1</th>\n",
       "      <td>o ka papiye farana</td>\n",
       "      <td>leurs papiers sont cassés</td>\n",
       "    </tr>\n",
       "    <tr>\n",
       "      <th>2</th>\n",
       "      <td>n tɔrɔla kɔ tuguni</td>\n",
       "      <td>je souffre encore</td>\n",
       "    </tr>\n",
       "    <tr>\n",
       "      <th>3</th>\n",
       "      <td>i tun b'a daminɛ tan kɛ</td>\n",
       "      <td>tu débutais à dix</td>\n",
       "    </tr>\n",
       "    <tr>\n",
       "      <th>4</th>\n",
       "      <td>a kɛra ka ban</td>\n",
       "      <td>il est arrivé</td>\n",
       "    </tr>\n",
       "    <tr>\n",
       "      <th>...</th>\n",
       "      <td>...</td>\n",
       "      <td>...</td>\n",
       "    </tr>\n",
       "    <tr>\n",
       "      <th>6949</th>\n",
       "      <td>bi saba</td>\n",
       "      <td>trente et un livres</td>\n",
       "    </tr>\n",
       "    <tr>\n",
       "      <th>6952</th>\n",
       "      <td>a bi dhii tcjaman min ka sôrô ka la</td>\n",
       "      <td>il est le dernier de ces trois espèces</td>\n",
       "    </tr>\n",
       "    <tr>\n",
       "      <th>6955</th>\n",
       "      <td>en bè kountara dougou konnon</td>\n",
       "      <td>on l’achèterait tous à la ville</td>\n",
       "    </tr>\n",
       "    <tr>\n",
       "      <th>6956</th>\n",
       "      <td>an bina daminè tougou</td>\n",
       "      <td>on recommence par là</td>\n",
       "    </tr>\n",
       "    <tr>\n",
       "      <th>6964</th>\n",
       "      <td>aya yé ko taga bolo kagni</td>\n",
       "      <td>allez donc vous bien</td>\n",
       "    </tr>\n",
       "  </tbody>\n",
       "</table>\n",
       "<p>3465 rows × 2 columns</p>\n",
       "</div>"
      ],
      "text/plain": [
       "                                      dyu  \\\n",
       "0             an kelen duron le tun be yi   \n",
       "1                      o ka papiye farana   \n",
       "2                      n tɔrɔla kɔ tuguni   \n",
       "3                 i tun b'a daminɛ tan kɛ   \n",
       "4                           a kɛra ka ban   \n",
       "...                                   ...   \n",
       "6949                              bi saba   \n",
       "6952  a bi dhii tcjaman min ka sôrô ka la   \n",
       "6955         en bè kountara dougou konnon   \n",
       "6956                an bina daminè tougou   \n",
       "6964            aya yé ko taga bolo kagni   \n",
       "\n",
       "                                          fr  \n",
       "0                          nous étions seuls  \n",
       "1                  leurs papiers sont cassés  \n",
       "2                          je souffre encore  \n",
       "3                          tu débutais à dix  \n",
       "4                              il est arrivé  \n",
       "...                                      ...  \n",
       "6949                     trente et un livres  \n",
       "6952  il est le dernier de ces trois espèces  \n",
       "6955         on l’achèterait tous à la ville  \n",
       "6956                    on recommence par là  \n",
       "6964                    allez donc vous bien  \n",
       "\n",
       "[3465 rows x 2 columns]"
      ]
     },
     "execution_count": 28,
     "metadata": {},
     "output_type": "execute_result"
    }
   ],
   "source": [
    "df_bt = pd.DataFrame({\"dyu\": src_translations, \"fr\": back_translations}).drop_duplicates()\n",
    "df_bt"
   ]
  },
  {
   "cell_type": "code",
   "execution_count": 29,
   "id": "c129e65e-90ab-4551-9309-aca1394415c8",
   "metadata": {
    "tags": []
   },
   "outputs": [],
   "source": [
    "back_translations_json = {\n",
    "    \"split\": DATA_SPLIT,\n",
    "    \"data\": [{\"ID\": 0, \"translation\": {\"dyu\": row[\"dyu\"], \"fr\": row[\"fr\"]}} for _, row in df_bt.iterrows()]\n",
    "}"
   ]
  },
  {
   "cell_type": "code",
   "execution_count": 30,
   "id": "94ab2165-c1d7-40a4-8f40-118cc3712879",
   "metadata": {
    "tags": []
   },
   "outputs": [],
   "source": [
    "_save(savedir=\"./data\", df=df_bt, json_data=back_translations_json, split=DATA_SPLIT)"
   ]
  },
  {
   "cell_type": "code",
   "execution_count": 31,
   "id": "13e45a67-4562-4f50-bb99-8ecde8bc9167",
   "metadata": {
    "tags": []
   },
   "outputs": [],
   "source": [
    "cleanup()"
   ]
  },
  {
   "cell_type": "code",
   "execution_count": null,
   "id": "084d3442-1629-42f7-a10f-996c1409f13c",
   "metadata": {},
   "outputs": [],
   "source": []
  }
 ],
 "metadata": {
  "kernelspec": {
   "display_name": "Python 3 (ipykernel)",
   "language": "python",
   "name": "python3"
  },
  "language_info": {
   "codemirror_mode": {
    "name": "ipython",
    "version": 3
   },
   "file_extension": ".py",
   "mimetype": "text/x-python",
   "name": "python",
   "nbconvert_exporter": "python",
   "pygments_lexer": "ipython3",
   "version": "3.11.7"
  }
 },
 "nbformat": 4,
 "nbformat_minor": 5
}
