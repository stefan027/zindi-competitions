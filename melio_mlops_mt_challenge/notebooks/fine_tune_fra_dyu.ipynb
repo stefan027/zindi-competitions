{
 "cells": [
  {
   "cell_type": "markdown",
   "id": "b8eee66b-3230-4597-bcfc-9eb523b72334",
   "metadata": {},
   "source": [
    "# Fine-tune a large French to Dyula model\n",
    "\n",
    "The purpose of the model is generate synthetic training data through back-translation."
   ]
  },
  {
   "cell_type": "markdown",
   "id": "463db019-1fa2-451b-8b63-108a483ebf72",
   "metadata": {},
   "source": [
    "## Setup environment"
   ]
  },
  {
   "cell_type": "markdown",
   "id": "e5928f23-1a86-4d19-b3a9-5f51b1654a90",
   "metadata": {},
   "source": [
    "Restart the kernel after you have installed packages with `pip install` in the Notebook cell below."
   ]
  },
  {
   "cell_type": "code",
   "execution_count": 1,
   "id": "7faa8da4-db32-4539-9435-335df82c808a",
   "metadata": {
    "tags": []
   },
   "outputs": [
    {
     "name": "stdout",
     "output_type": "stream",
     "text": [
      "\u001b[33mWARNING: Running pip as the 'root' user can result in broken permissions and conflicting behaviour with the system package manager. It is recommended to use a virtual environment instead: https://pip.pypa.io/warnings/venv\u001b[0m\u001b[33m\n",
      "\u001b[0m"
     ]
    }
   ],
   "source": [
    "!pip install -q -U sentencepiece transformers datasets sacrebleu lxml sentence-transformers accelerate fastai"
   ]
  },
  {
   "cell_type": "code",
   "execution_count": 2,
   "id": "d07025ca-2da0-4442-99ee-4ae33472f22c",
   "metadata": {
    "tags": []
   },
   "outputs": [],
   "source": [
    "HFHUB_LOGIN = False\n",
    "LOAD_LOCAL_DATA = True"
   ]
  },
  {
   "cell_type": "code",
   "execution_count": 3,
   "id": "05aaed62-6f1f-429a-8821-9c0b501be89a",
   "metadata": {
    "tags": []
   },
   "outputs": [],
   "source": [
    "if HFHUB_LOGIN:\n",
    "    from huggingface_hub import notebook_login\n",
    "    notebook_login(new_session=False)"
   ]
  },
  {
   "cell_type": "markdown",
   "id": "8cc8e861-6aab-4723-9a6a-0a9fe3df3a8b",
   "metadata": {},
   "source": [
    "## Imports, config, etc"
   ]
  },
  {
   "cell_type": "code",
   "execution_count": 4,
   "id": "3410bb4d-c329-41f6-8108-5694d52fe930",
   "metadata": {
    "tags": []
   },
   "outputs": [],
   "source": [
    "from functools import partial\n",
    "from datasets import load_dataset\n",
    "from transformers import AutoModelForSeq2SeqLM, NllbTokenizer\n",
    "from fastai.callback.training import GradientAccumulation\n",
    "\n",
    "from data import (\n",
    "    load_from_json,\n",
    "    TranslationDataset,\n",
    "    create_dataloaders,\n",
    "    save_data_locally,\n",
    "    ds2df\n",
    ")\n",
    "from modeling import (\n",
    "    load_model,\n",
    "    create_learner\n",
    ")\n",
    "from utils import preproc, set_seed\n",
    "from translation import translate\n",
    "from evaluation import calculate_bleu"
   ]
  },
  {
   "cell_type": "code",
   "execution_count": 5,
   "id": "ee2e59ec-9e86-45c6-b7b3-872db717e419",
   "metadata": {
    "tags": []
   },
   "outputs": [],
   "source": [
    "SRC_LANG = \"fr\"\n",
    "TGT_LANG = \"dyu\"\n",
    "\n",
    "MODEL_ID = \"facebook/nllb-200-distilled-600M\"\n",
    "TOKENIZER_ID = \"tokenizers/tokenizer_freq1\"\n",
    "RANDOM_SEED = 27  # Set `RANDOM_SEED = None` to run without a seed\n",
    "MODEL_SAVE_PATH = 'saved_models/fra-dyu-600M'"
   ]
  },
  {
   "cell_type": "code",
   "execution_count": 6,
   "id": "a46a6fc1-b12d-47ff-9e1f-a214bbd9c183",
   "metadata": {
    "tags": []
   },
   "outputs": [
    {
     "name": "stdout",
     "output_type": "stream",
     "text": [
      "Translation from fra_Latn -> dyu_Latn\n"
     ]
    }
   ],
   "source": [
    "if RANDOM_SEED is not None:\n",
    "    set_seed(RANDOM_SEED, reproducible=True)\n",
    "\n",
    "src_lang_code = \"dyu_Latn\" if SRC_LANG == \"dyu\" else \"fra_Latn\"\n",
    "tgt_lang_code = \"dyu_Latn\" if TGT_LANG == \"dyu\" else \"fra_Latn\"\n",
    "print(f\"Translation from {src_lang_code} -> {tgt_lang_code}\")"
   ]
  },
  {
   "cell_type": "markdown",
   "id": "0294c58a-8aa3-47ca-814a-6333d7393b7d",
   "metadata": {},
   "source": [
    "## Load data"
   ]
  },
  {
   "cell_type": "code",
   "execution_count": 7,
   "id": "72541e40-e403-4f71-a13d-4f713305c7f0",
   "metadata": {
    "tags": []
   },
   "outputs": [
    {
     "name": "stdout",
     "output_type": "stream",
     "text": [
      "(10929, 3)\n"
     ]
    },
    {
     "data": {
      "text/html": [
       "<div>\n",
       "<style scoped>\n",
       "    .dataframe tbody tr th:only-of-type {\n",
       "        vertical-align: middle;\n",
       "    }\n",
       "\n",
       "    .dataframe tbody tr th {\n",
       "        vertical-align: top;\n",
       "    }\n",
       "\n",
       "    .dataframe thead th {\n",
       "        text-align: right;\n",
       "    }\n",
       "</style>\n",
       "<table border=\"1\" class=\"dataframe\">\n",
       "  <thead>\n",
       "    <tr style=\"text-align: right;\">\n",
       "      <th></th>\n",
       "      <th>dyu</th>\n",
       "      <th>fr</th>\n",
       "      <th>split</th>\n",
       "    </tr>\n",
       "  </thead>\n",
       "  <tbody>\n",
       "    <tr>\n",
       "      <th>0</th>\n",
       "      <td>A bi ji min na</td>\n",
       "      <td>Il boit de l’eau.</td>\n",
       "      <td>train</td>\n",
       "    </tr>\n",
       "    <tr>\n",
       "      <th>1</th>\n",
       "      <td>A le dalakolontɛ lon bɛ.</td>\n",
       "      <td>Il se plaint toujours.</td>\n",
       "      <td>train</td>\n",
       "    </tr>\n",
       "    <tr>\n",
       "      <th>2</th>\n",
       "      <td>Mun? Fɛn dɔ.</td>\n",
       "      <td>Quoi ? Quelque chose.</td>\n",
       "      <td>train</td>\n",
       "    </tr>\n",
       "    <tr>\n",
       "      <th>3</th>\n",
       "      <td>O bɛ bi bɔra fo Gubeta.</td>\n",
       "      <td>Tous sortent excepté Gubetta.</td>\n",
       "      <td>train</td>\n",
       "    </tr>\n",
       "    <tr>\n",
       "      <th>4</th>\n",
       "      <td>A ale lo bi da bugɔ la!</td>\n",
       "      <td>Ah ! c’est lui… il sonne…</td>\n",
       "      <td>train</td>\n",
       "    </tr>\n",
       "  </tbody>\n",
       "</table>\n",
       "</div>"
      ],
      "text/plain": [
       "                        dyu                             fr  split\n",
       "0            A bi ji min na              Il boit de l’eau.  train\n",
       "1  A le dalakolontɛ lon bɛ.         Il se plaint toujours.  train\n",
       "2              Mun? Fɛn dɔ.          Quoi ? Quelque chose.  train\n",
       "3   O bɛ bi bɔra fo Gubeta.  Tous sortent excepté Gubetta.  train\n",
       "4   A ale lo bi da bugɔ la!      Ah ! c’est lui… il sonne…  train"
      ]
     },
     "execution_count": 7,
     "metadata": {},
     "output_type": "execute_result"
    }
   ],
   "source": [
    "if LOAD_LOCAL_DATA:\n",
    "    df = load_from_json(\n",
    "        train_files=\"data/dataset_train.json\",\n",
    "        valid_files=\"data/dataset_validation.json\",\n",
    "        test_files=\"data/dataset_test.json\",\n",
    "        return_format=\"df\"\n",
    "    )\n",
    "else:\n",
    "    ds = load_dataset(\"uvci/Koumankan_mt_dyu_fr\")\n",
    "    save_data_locally(ds, save_dir=\"./data\")\n",
    "    df = ds2df(ds)\n",
    "print(df.shape)\n",
    "df.head()"
   ]
  },
  {
   "cell_type": "code",
   "execution_count": 8,
   "id": "cb33c33f-a74b-43a5-ac3a-8fc1a7bd233b",
   "metadata": {
    "tags": []
   },
   "outputs": [],
   "source": [
    "df_train = df[df[\"split\"] == \"train\"].copy()\n",
    "df_valid = df[df[\"split\"]== \"validation\"].copy()\n",
    "df_test = df[df[\"split\"]== \"test\"].copy()\n",
    "assert len(df_train) + len(df_valid) + len(df_test) == len(df)"
   ]
  },
  {
   "cell_type": "markdown",
   "id": "19f2c76a-8fcf-4962-9e53-77981b916bb0",
   "metadata": {},
   "source": [
    "## Load model"
   ]
  },
  {
   "cell_type": "code",
   "execution_count": 9,
   "id": "86a792e3-e891-4a17-9c35-da989799f476",
   "metadata": {
    "tags": []
   },
   "outputs": [
    {
     "name": "stderr",
     "output_type": "stream",
     "text": [
      "/usr/local/lib/python3.11/dist-packages/torch/_utils.py:831: UserWarning: TypedStorage is deprecated. It will be removed in the future and UntypedStorage will be the only storage class. This should only matter to you if you are using storages directly.  To access UntypedStorage directly, use tensor.untyped_storage() instead of tensor.storage()\n",
      "  return self.fget.__get__(instance, owner)()\n",
      "/usr/local/lib/python3.11/dist-packages/transformers/tokenization_utils_base.py:1601: FutureWarning: `clean_up_tokenization_spaces` was not set. It will be set to `True` by default. This behavior will be depracted in transformers v4.45, and will be then set to `False` by default. For more details check this issue: https://github.com/huggingface/transformers/issues/31884\n",
      "  warnings.warn(\n"
     ]
    },
    {
     "name": "stdout",
     "output_type": "stream",
     "text": [
      "Number of tokens w/o embeddings: 1\n",
      "model.shared.weight torch.Size([256206, 1024])\n",
      "model.encoder.embed_tokens.weight torch.Size([256206, 1024])\n",
      "model.decoder.embed_tokens.weight torch.Size([256206, 1024])\n",
      "lm_head.weight torch.Size([256206, 1024])\n",
      "Memory footprint: 1.36GB\n",
      "Memory footprint: 1.36GB\n"
     ]
    }
   ],
   "source": [
    "model, tokenizer = load_model(\n",
    "    MODEL_ID, tokenizer_id=TOKENIZER_ID, load_tokenizer=True, remap_embeddings=True,\n",
    "    init_embeds_for_new_tokens=True, src_language=src_lang_code, tgt_language=tgt_lang_code,\n",
    ")\n",
    "print(f\"Memory footprint: {model.get_memory_footprint() / 1024**3 :.2f}GB\")"
   ]
  },
  {
   "cell_type": "markdown",
   "id": "05c79e7c-4b3f-4e83-b89a-a01745055479",
   "metadata": {},
   "source": [
    "Calculate the BLEU score for French-Dyula translation before fine-tuning:"
   ]
  },
  {
   "cell_type": "code",
   "execution_count": 10,
   "id": "539d58eb-1041-45dc-a660-687706d20ec0",
   "metadata": {
    "tags": []
   },
   "outputs": [
    {
     "data": {
      "application/vnd.jupyter.widget-view+json": {
       "model_id": "8ae93fdf2a0b41dfa322fbbe4c3c15c2",
       "version_major": 2,
       "version_minor": 0
      },
      "text/plain": [
       "  0%|          | 0/1471 [00:00<?, ?it/s]"
      ]
     },
     "metadata": {},
     "output_type": "display_data"
    },
    {
     "data": {
      "text/plain": [
       "2.6154283191152383"
      ]
     },
     "execution_count": 10,
     "metadata": {},
     "output_type": "execute_result"
    }
   ],
   "source": [
    "translate_func = partial(\n",
    "    translate, model=model, tokenizer=tokenizer, src_lang=src_lang_code, tgt_lang=tgt_lang_code\n",
    ")\n",
    "calculate_bleu(\n",
    "    model, df_valid[[SRC_LANG, TGT_LANG]], translate_func, src_lang=src_lang_code, tgt_lang=tgt_lang_code,\n",
    "    preproc_func=preproc\n",
    ")"
   ]
  },
  {
   "cell_type": "markdown",
   "id": "b9e44c12-d3a1-4986-a608-50c98ef13823",
   "metadata": {},
   "source": [
    "## Create dataloader"
   ]
  },
  {
   "cell_type": "markdown",
   "id": "e9f293bf-6086-43b1-9b1f-60c26ecafb33",
   "metadata": {},
   "source": [
    "The `create_dataloaders` function expects the source language to be in the first columns of the dataframe and the target language in the second.\n",
    "\n",
    "We will train in small batches and use gradient accumulation."
   ]
  },
  {
   "cell_type": "code",
   "execution_count": 11,
   "id": "9821382d-e0e4-437c-b871-915e99370a31",
   "metadata": {
    "tags": []
   },
   "outputs": [],
   "source": [
    "bs, validation_bs = 16, 128\n",
    "dls = create_dataloaders(\n",
    "    df_train[[SRC_LANG, TGT_LANG]], df_valid[[SRC_LANG, TGT_LANG]], tokenizer, bs=bs,\n",
    "    src_lang=src_lang_code, tgt_lang=tgt_lang_code, preproc_func=preproc,\n",
    "    max_length=128, validation_bs=validation_bs\n",
    ")"
   ]
  },
  {
   "cell_type": "markdown",
   "id": "e909ecaa-4491-4e48-a664-f237c90f40f3",
   "metadata": {},
   "source": [
    "## Train"
   ]
  },
  {
   "cell_type": "code",
   "execution_count": 12,
   "id": "ec86cee3-daae-400e-bf75-5e288880e038",
   "metadata": {
    "tags": []
   },
   "outputs": [],
   "source": [
    "learn = create_learner(\n",
    "    dls, model, tokenizer, src_lang=src_lang_code, tgt_lang=tgt_lang_code, #wd=1e-3\n",
    ")#.to_fp16()"
   ]
  },
  {
   "cell_type": "markdown",
   "id": "1c7865e6-d8b3-4cb6-aa0e-2d49aa259fbf",
   "metadata": {},
   "source": [
    "We use Fastai's handy learning rate finder to pick a reasonable learning rate:"
   ]
  },
  {
   "cell_type": "code",
   "execution_count": 13,
   "id": "5912816e-0b0f-446f-bbf8-2c25450a7378",
   "metadata": {
    "tags": []
   },
   "outputs": [
    {
     "data": {
      "text/html": [
       "\n",
       "<style>\n",
       "    /* Turns off some styling */\n",
       "    progress {\n",
       "        /* gets rid of default border in Firefox and Opera. */\n",
       "        border: none;\n",
       "        /* Needs to be in here for Safari polyfill so background images work as expected. */\n",
       "        background-size: auto;\n",
       "    }\n",
       "    progress:not([value]), progress:not([value])::-webkit-progress-bar {\n",
       "        background: repeating-linear-gradient(45deg, #7e7e7e, #7e7e7e 10px, #5c5c5c 10px, #5c5c5c 20px);\n",
       "    }\n",
       "    .progress-bar-interrupted, .progress-bar-interrupted::-webkit-progress-bar {\n",
       "        background: #F44336;\n",
       "    }\n",
       "</style>\n"
      ],
      "text/plain": [
       "<IPython.core.display.HTML object>"
      ]
     },
     "metadata": {},
     "output_type": "display_data"
    },
    {
     "data": {
      "text/html": [],
      "text/plain": [
       "<IPython.core.display.HTML object>"
      ]
     },
     "metadata": {},
     "output_type": "display_data"
    },
    {
     "data": {
      "text/plain": [
       "SuggestedLRs(valley=9.120108734350652e-05)"
      ]
     },
     "execution_count": 13,
     "metadata": {},
     "output_type": "execute_result"
    },
    {
     "data": {
      "image/png": "[encoded data removed]",
      "text/plain": [
       "<Figure size 640x480 with 1 Axes>"
      ]
     },
     "metadata": {},
     "output_type": "display_data"
    }
   ],
   "source": [
    "learn.lr_find()"
   ]
  },
  {
   "cell_type": "code",
   "execution_count": 14,
   "id": "46e71b2a-ec5a-4fcd-b0ee-1a3c72ec9105",
   "metadata": {
    "tags": []
   },
   "outputs": [
    {
     "data": {
      "text/html": [
       "\n",
       "<style>\n",
       "    /* Turns off some styling */\n",
       "    progress {\n",
       "        /* gets rid of default border in Firefox and Opera. */\n",
       "        border: none;\n",
       "        /* Needs to be in here for Safari polyfill so background images work as expected. */\n",
       "        background-size: auto;\n",
       "    }\n",
       "    progress:not([value]), progress:not([value])::-webkit-progress-bar {\n",
       "        background: repeating-linear-gradient(45deg, #7e7e7e, #7e7e7e 10px, #5c5c5c 10px, #5c5c5c 20px);\n",
       "    }\n",
       "    .progress-bar-interrupted, .progress-bar-interrupted::-webkit-progress-bar {\n",
       "        background: #F44336;\n",
       "    }\n",
       "</style>\n"
      ],
      "text/plain": [
       "<IPython.core.display.HTML object>"
      ]
     },
     "metadata": {},
     "output_type": "display_data"
    },
    {
     "data": {
      "text/html": [
       "<table border=\"1\" class=\"dataframe\">\n",
       "  <thead>\n",
       "    <tr style=\"text-align: left;\">\n",
       "      <th>epoch</th>\n",
       "      <th>train_loss</th>\n",
       "      <th>valid_loss</th>\n",
       "      <th>BLEU</th>\n",
       "      <th>time</th>\n",
       "    </tr>\n",
       "  </thead>\n",
       "  <tbody>\n",
       "    <tr>\n",
       "      <td>0</td>\n",
       "      <td>2.934292</td>\n",
       "      <td>3.051337</td>\n",
       "      <td>6.795979</td>\n",
       "      <td>01:12</td>\n",
       "    </tr>\n",
       "    <tr>\n",
       "      <td>1</td>\n",
       "      <td>2.391250</td>\n",
       "      <td>2.935337</td>\n",
       "      <td>7.769774</td>\n",
       "      <td>01:13</td>\n",
       "    </tr>\n",
       "    <tr>\n",
       "      <td>2</td>\n",
       "      <td>2.255930</td>\n",
       "      <td>2.917558</td>\n",
       "      <td>8.017630</td>\n",
       "      <td>01:13</td>\n",
       "    </tr>\n",
       "  </tbody>\n",
       "</table>"
      ],
      "text/plain": [
       "<IPython.core.display.HTML object>"
      ]
     },
     "metadata": {},
     "output_type": "display_data"
    }
   ],
   "source": [
    "accum_steps = max(1, 32//bs)\n",
    "learn.fit_one_cycle(3, 1e-4, cbs=GradientAccumulation(accum_steps))"
   ]
  },
  {
   "cell_type": "markdown",
   "id": "386835b4-9eaa-4ae0-91c1-30eeaf658c5e",
   "metadata": {},
   "source": [
    "Calculate the BLEU score for French-Dyula translation after fine-tuning:"
   ]
  },
  {
   "cell_type": "code",
   "execution_count": 15,
   "id": "c06dfd59-9901-46ec-9606-430b2108c23b",
   "metadata": {
    "tags": []
   },
   "outputs": [
    {
     "data": {
      "application/vnd.jupyter.widget-view+json": {
       "model_id": "facf4b3c644747c190ed4251bb308d75",
       "version_major": 2,
       "version_minor": 0
      },
      "text/plain": [
       "  0%|          | 0/1471 [00:00<?, ?it/s]"
      ]
     },
     "metadata": {},
     "output_type": "display_data"
    },
    {
     "data": {
      "text/plain": [
       "7.928365594867611"
      ]
     },
     "execution_count": 15,
     "metadata": {},
     "output_type": "execute_result"
    }
   ],
   "source": [
    "calculate_bleu(\n",
    "    model, df_valid, translate_func, src_lang=src_lang_code, tgt_lang=tgt_lang_code,\n",
    "    preproc_func=preproc\n",
    ")"
   ]
  },
  {
   "cell_type": "code",
   "execution_count": 16,
   "id": "6364d268-a871-461b-b84f-760b0fc3d7fe",
   "metadata": {
    "tags": []
   },
   "outputs": [
    {
     "name": "stdout",
     "output_type": "stream",
     "text": [
      "[2024-08-29 21:52:36,170] [INFO] [real_accelerator.py:158:get_accelerator] Setting ds_accelerator to cuda (auto detect)\n"
     ]
    },
    {
     "name": "stderr",
     "output_type": "stream",
     "text": [
      "Some non-default generation parameters are set in the model config. These should go into a GenerationConfig file (https://huggingface.co/docs/transformers/generation_strategies#save-a-custom-decoding-strategy-with-your-model) instead. This warning will be raised to an exception in v4.41.\n",
      "Non-default generation parameters: {'max_length': 200}\n"
     ]
    },
    {
     "data": {
      "text/plain": [
       "('saved_models/fra-dyu-600M/tokenizer_config.json',\n",
       " 'saved_models/fra-dyu-600M/special_tokens_map.json',\n",
       " 'saved_models/fra-dyu-600M/sentencepiece.bpe.model',\n",
       " 'saved_models/fra-dyu-600M/added_tokens.json')"
      ]
     },
     "execution_count": 16,
     "metadata": {},
     "output_type": "execute_result"
    }
   ],
   "source": [
    "model.save_pretrained(MODEL_SAVE_PATH)\n",
    "tokenizer.save_pretrained(MODEL_SAVE_PATH)"
   ]
  },
  {
   "cell_type": "code",
   "execution_count": null,
   "id": "17dbc8bc-4ccd-49a2-9d59-0e76d312f0fe",
   "metadata": {},
   "outputs": [],
   "source": []
  }
 ],
 "metadata": {
  "kernelspec": {
   "display_name": "Python 3 (ipykernel)",
   "language": "python",
   "name": "python3"
  },
  "language_info": {
   "codemirror_mode": {
    "name": "ipython",
    "version": 3
   },
   "file_extension": ".py",
   "mimetype": "text/x-python",
   "name": "python",
   "nbconvert_exporter": "python",
   "pygments_lexer": "ipython3",
   "version": "3.11.7"
  }
 },
 "nbformat": 4,
 "nbformat_minor": 5
}
