{
 "cells": [
  {
   "cell_type": "markdown",
   "id": "794fb5ea-c28a-434d-8a20-bd56ce04d1e2",
   "metadata": {},
   "source": [
    "# Distillation training"
   ]
  },
  {
   "cell_type": "markdown",
   "id": "5ff3d3b5-8074-4bb2-beab-5361135e5d4e",
   "metadata": {},
   "source": [
    "Restart the kernel after installing dependencies in the Notebook."
   ]
  },
  {
   "cell_type": "code",
   "execution_count": 1,
   "id": "7faa8da4-db32-4539-9435-335df82c808a",
   "metadata": {
    "tags": []
   },
   "outputs": [
    {
     "name": "stdout",
     "output_type": "stream",
     "text": [
      "\u001b[33mWARNING: Running pip as the 'root' user can result in broken permissions and conflicting behaviour with the system package manager. It is recommended to use a virtual environment instead: https://pip.pypa.io/warnings/venv\u001b[0m\u001b[33m\n",
      "\u001b[0m"
     ]
    }
   ],
   "source": [
    "!pip install -q -U sentencepiece transformers datasets sacrebleu lxml sentence-transformers accelerate fastai"
   ]
  },
  {
   "cell_type": "markdown",
   "id": "8f2f04f1-c9f6-4bfd-b527-1ce86c872257",
   "metadata": {},
   "source": [
    "## Config, imports, etc."
   ]
  },
  {
   "cell_type": "code",
   "execution_count": 2,
   "id": "ee2e59ec-9e86-45c6-b7b3-872db717e419",
   "metadata": {
    "tags": []
   },
   "outputs": [],
   "source": [
    "RANDOM_SEED = 727  # Set `RANDOM_SEED = None` to run without a seed"
   ]
  },
  {
   "cell_type": "code",
   "execution_count": 3,
   "id": "da92a0f0-9bec-47d5-b912-254a721754be",
   "metadata": {
    "tags": []
   },
   "outputs": [],
   "source": [
    "from functools import partial\n",
    "from transformers import AutoModelForSeq2SeqLM, NllbTokenizer\n",
    "from data import (\n",
    "    load_from_json,\n",
    "    TranslationDataset,\n",
    "    create_dataloaders\n",
    ")\n",
    "from modeling import (\n",
    "    load_model,\n",
    "    create_learner,\n",
    "    create_distillation_learner,\n",
    "    prune\n",
    ")\n",
    "from utils import preproc, set_seed, cleanup\n",
    "from translation import translate\n",
    "from evaluation import calculate_bleu"
   ]
  },
  {
   "cell_type": "code",
   "execution_count": 4,
   "id": "a46a6fc1-b12d-47ff-9e1f-a214bbd9c183",
   "metadata": {
    "tags": []
   },
   "outputs": [],
   "source": [
    "if RANDOM_SEED is not None:\n",
    "    set_seed(RANDOM_SEED, reproducible=True)"
   ]
  },
  {
   "cell_type": "markdown",
   "id": "5a0fd6ee-6652-4ea5-b6b0-1e352ed4b608",
   "metadata": {},
   "source": [
    "## STEP 1 - Fine-tune NLLB-200-600M with modified tokenizer"
   ]
  },
  {
   "cell_type": "code",
   "execution_count": 5,
   "id": "242990d9-c256-46a1-8e28-b6b1e0052d35",
   "metadata": {},
   "outputs": [],
   "source": [
    "MODEL_ID = \"facebook/nllb-200-distilled-600M\"\n",
    "TOKENIZER_ID = \"tokenizers/tokenizer_freq5\""
   ]
  },
  {
   "cell_type": "markdown",
   "id": "9e8736bc-183a-4fd9-95ec-10e9af25d11d",
   "metadata": {},
   "source": [
    "### Load training data"
   ]
  },
  {
   "cell_type": "code",
   "execution_count": 6,
   "id": "89584490-070b-4459-b77d-d000442d718e",
   "metadata": {
    "tags": []
   },
   "outputs": [
    {
     "name": "stdout",
     "output_type": "stream",
     "text": [
      "(10929, 3)\n"
     ]
    },
    {
     "data": {
      "text/html": [
       "<div>\n",
       "<style scoped>\n",
       "    .dataframe tbody tr th:only-of-type {\n",
       "        vertical-align: middle;\n",
       "    }\n",
       "\n",
       "    .dataframe tbody tr th {\n",
       "        vertical-align: top;\n",
       "    }\n",
       "\n",
       "    .dataframe thead th {\n",
       "        text-align: right;\n",
       "    }\n",
       "</style>\n",
       "<table border=\"1\" class=\"dataframe\">\n",
       "  <thead>\n",
       "    <tr style=\"text-align: right;\">\n",
       "      <th></th>\n",
       "      <th>dyu</th>\n",
       "      <th>fr</th>\n",
       "      <th>split</th>\n",
       "    </tr>\n",
       "  </thead>\n",
       "  <tbody>\n",
       "    <tr>\n",
       "      <th>0</th>\n",
       "      <td>A bi ji min na</td>\n",
       "      <td>Il boit de l’eau.</td>\n",
       "      <td>train</td>\n",
       "    </tr>\n",
       "    <tr>\n",
       "      <th>1</th>\n",
       "      <td>A le dalakolontɛ lon bɛ.</td>\n",
       "      <td>Il se plaint toujours.</td>\n",
       "      <td>train</td>\n",
       "    </tr>\n",
       "    <tr>\n",
       "      <th>2</th>\n",
       "      <td>Mun? Fɛn dɔ.</td>\n",
       "      <td>Quoi ? Quelque chose.</td>\n",
       "      <td>train</td>\n",
       "    </tr>\n",
       "    <tr>\n",
       "      <th>3</th>\n",
       "      <td>O bɛ bi bɔra fo Gubeta.</td>\n",
       "      <td>Tous sortent excepté Gubetta.</td>\n",
       "      <td>train</td>\n",
       "    </tr>\n",
       "    <tr>\n",
       "      <th>4</th>\n",
       "      <td>A ale lo bi da bugɔ la!</td>\n",
       "      <td>Ah ! c’est lui… il sonne…</td>\n",
       "      <td>train</td>\n",
       "    </tr>\n",
       "  </tbody>\n",
       "</table>\n",
       "</div>"
      ],
      "text/plain": [
       "                        dyu                             fr  split\n",
       "0            A bi ji min na              Il boit de l’eau.  train\n",
       "1  A le dalakolontɛ lon bɛ.         Il se plaint toujours.  train\n",
       "2              Mun? Fɛn dɔ.          Quoi ? Quelque chose.  train\n",
       "3   O bɛ bi bɔra fo Gubeta.  Tous sortent excepté Gubetta.  train\n",
       "4   A ale lo bi da bugɔ la!      Ah ! c’est lui… il sonne…  train"
      ]
     },
     "execution_count": 6,
     "metadata": {},
     "output_type": "execute_result"
    }
   ],
   "source": [
    "df = load_from_json(\n",
    "    train_files=\"data/dataset_train.json\",\n",
    "    valid_files=\"data/dataset_validation.json\",\n",
    "    test_files=\"data/dataset_test.json\",\n",
    "    return_format=\"df\"\n",
    ")\n",
    "print(df.shape)\n",
    "df.head()"
   ]
  },
  {
   "cell_type": "code",
   "execution_count": 7,
   "id": "5054142c-69f0-4fbf-aa7f-bccd2edebe79",
   "metadata": {
    "tags": []
   },
   "outputs": [],
   "source": [
    "df_train = df[df[\"split\"] == \"train\"].copy()\n",
    "df_valid = df[df[\"split\"]== \"validation\"].copy()\n",
    "df_test = df[df[\"split\"]== \"test\"].copy()\n",
    "assert len(df_train) + len(df_valid) + len(df_test) == len(df)"
   ]
  },
  {
   "cell_type": "markdown",
   "id": "16ccf022-2246-4346-872e-de40eae141c4",
   "metadata": {},
   "source": [
    "### Load model and remap tokenizer embeddings"
   ]
  },
  {
   "cell_type": "code",
   "execution_count": 8,
   "id": "602f5147-c7c8-4af1-bec7-30c889775583",
   "metadata": {
    "tags": []
   },
   "outputs": [
    {
     "data": {
      "application/vnd.jupyter.widget-view+json": {
       "model_id": "47adeab6d2344f399e9813e79af89524",
       "version_major": 2,
       "version_minor": 0
      },
      "text/plain": [
       "config.json:   0%|          | 0.00/846 [00:00<?, ?B/s]"
      ]
     },
     "metadata": {},
     "output_type": "display_data"
    },
    {
     "data": {
      "application/vnd.jupyter.widget-view+json": {
       "model_id": "bb966e5161de4225b77403d9f2c3612b",
       "version_major": 2,
       "version_minor": 0
      },
      "text/plain": [
       "pytorch_model.bin:   0%|          | 0.00/2.46G [00:00<?, ?B/s]"
      ]
     },
     "metadata": {},
     "output_type": "display_data"
    },
    {
     "name": "stderr",
     "output_type": "stream",
     "text": [
      "/usr/local/lib/python3.11/dist-packages/torch/_utils.py:831: UserWarning: TypedStorage is deprecated. It will be removed in the future and UntypedStorage will be the only storage class. This should only matter to you if you are using storages directly.  To access UntypedStorage directly, use tensor.untyped_storage() instead of tensor.storage()\n",
      "  return self.fget.__get__(instance, owner)()\n"
     ]
    },
    {
     "data": {
      "application/vnd.jupyter.widget-view+json": {
       "model_id": "683cd1e3248d4155a0f721636ca11fed",
       "version_major": 2,
       "version_minor": 0
      },
      "text/plain": [
       "generation_config.json:   0%|          | 0.00/189 [00:00<?, ?B/s]"
      ]
     },
     "metadata": {},
     "output_type": "display_data"
    },
    {
     "data": {
      "application/vnd.jupyter.widget-view+json": {
       "model_id": "7f6a9f9e51a14c64b9b81590c787ae33",
       "version_major": 2,
       "version_minor": 0
      },
      "text/plain": [
       "tokenizer_config.json:   0%|          | 0.00/564 [00:00<?, ?B/s]"
      ]
     },
     "metadata": {},
     "output_type": "display_data"
    },
    {
     "data": {
      "application/vnd.jupyter.widget-view+json": {
       "model_id": "b2111e37eae54e8aad6c3bb9df612cda",
       "version_major": 2,
       "version_minor": 0
      },
      "text/plain": [
       "sentencepiece.bpe.model:   0%|          | 0.00/4.85M [00:00<?, ?B/s]"
      ]
     },
     "metadata": {},
     "output_type": "display_data"
    },
    {
     "data": {
      "application/vnd.jupyter.widget-view+json": {
       "model_id": "01f5a2eef7e54a839d3eac49a8b64876",
       "version_major": 2,
       "version_minor": 0
      },
      "text/plain": [
       "special_tokens_map.json:   0%|          | 0.00/3.55k [00:00<?, ?B/s]"
      ]
     },
     "metadata": {},
     "output_type": "display_data"
    },
    {
     "data": {
      "application/vnd.jupyter.widget-view+json": {
       "model_id": "cc21f14cb8834ab280dcd6768c575fa5",
       "version_major": 2,
       "version_minor": 0
      },
      "text/plain": [
       "tokenizer.json:   0%|          | 0.00/17.3M [00:00<?, ?B/s]"
      ]
     },
     "metadata": {},
     "output_type": "display_data"
    },
    {
     "name": "stderr",
     "output_type": "stream",
     "text": [
      "/usr/local/lib/python3.11/dist-packages/transformers/tokenization_utils_base.py:1601: FutureWarning: `clean_up_tokenization_spaces` was not set. It will be set to `True` by default. This behavior will be depracted in transformers v4.45, and will be then set to `False` by default. For more details check this issue: https://github.com/huggingface/transformers/issues/31884\n",
      "  warnings.warn(\n"
     ]
    },
    {
     "name": "stdout",
     "output_type": "stream",
     "text": [
      "Number of tokens w/o embeddings: 1\n",
      "model.shared.weight torch.Size([256206, 1024])\n",
      "model.encoder.embed_tokens.weight torch.Size([256206, 1024])\n",
      "model.decoder.embed_tokens.weight torch.Size([256206, 1024])\n",
      "lm_head.weight torch.Size([256206, 1024])\n",
      "Memory footprint: 1.34GB\n"
     ]
    }
   ],
   "source": [
    "model, tokenizer = load_model(\n",
    "    MODEL_ID, load_tokenizer=True, tokenizer_id=TOKENIZER_ID, remap_embeddings=True, init_embeds_for_new_tokens=True,\n",
    "    old_tokenizer_id=MODEL_ID, src_language=\"dyu_Latn\", tgt_language=\"fra_Latn\"\n",
    ")"
   ]
  },
  {
   "cell_type": "markdown",
   "id": "1ecb2493-0a6d-4223-af2f-b0a95c2f66e7",
   "metadata": {},
   "source": [
    "### Create dataloaders, learner, and train model"
   ]
  },
  {
   "cell_type": "code",
   "execution_count": 9,
   "id": "2edc18f9-ffe1-4855-b2ff-868a030c522f",
   "metadata": {
    "tags": []
   },
   "outputs": [],
   "source": [
    "dls = create_dataloaders(\n",
    "    df_train[[\"dyu\", \"fr\"]], df_valid[[\"dyu\", \"fr\"]], tokenizer, bs=32,\n",
    "    src_lang=\"dyu_Latn\", tgt_lang=\"fra_Latn\", preproc_func=preproc,\n",
    "    max_length=128\n",
    ")"
   ]
  },
  {
   "cell_type": "code",
   "execution_count": 10,
   "id": "6e8d8fc5-cd17-4653-bb49-d8788724a7d9",
   "metadata": {
    "tags": []
   },
   "outputs": [],
   "source": [
    "learn = create_learner(dls, model, tokenizer, src_lang=\"dyu_Latn\", tgt_lang=\"fra_Latn\")#, wd=1e-3)"
   ]
  },
  {
   "cell_type": "code",
   "execution_count": 11,
   "id": "38898cd3-32d7-4cdb-b6e7-a001af972746",
   "metadata": {
    "tags": []
   },
   "outputs": [
    {
     "data": {
      "text/html": [
       "\n",
       "<style>\n",
       "    /* Turns off some styling */\n",
       "    progress {\n",
       "        /* gets rid of default border in Firefox and Opera. */\n",
       "        border: none;\n",
       "        /* Needs to be in here for Safari polyfill so background images work as expected. */\n",
       "        background-size: auto;\n",
       "    }\n",
       "    progress:not([value]), progress:not([value])::-webkit-progress-bar {\n",
       "        background: repeating-linear-gradient(45deg, #7e7e7e, #7e7e7e 10px, #5c5c5c 10px, #5c5c5c 20px);\n",
       "    }\n",
       "    .progress-bar-interrupted, .progress-bar-interrupted::-webkit-progress-bar {\n",
       "        background: #F44336;\n",
       "    }\n",
       "</style>\n"
      ],
      "text/plain": [
       "<IPython.core.display.HTML object>"
      ]
     },
     "metadata": {},
     "output_type": "display_data"
    },
    {
     "data": {
      "text/html": [],
      "text/plain": [
       "<IPython.core.display.HTML object>"
      ]
     },
     "metadata": {},
     "output_type": "display_data"
    },
    {
     "data": {
      "text/plain": [
       "SuggestedLRs(valley=0.00019054606673307717)"
      ]
     },
     "execution_count": 11,
     "metadata": {},
     "output_type": "execute_result"
    },
    {
     "data": {
      "image/png": "[encoded data removed]",
      "text/plain": [
       "<Figure size 640x480 with 1 Axes>"
      ]
     },
     "metadata": {},
     "output_type": "display_data"
    }
   ],
   "source": [
    "learn.lr_find()"
   ]
  },
  {
   "cell_type": "code",
   "execution_count": 12,
   "id": "a0606ed1-fc2a-456a-92cb-a2f0e1d8626f",
   "metadata": {
    "tags": []
   },
   "outputs": [
    {
     "data": {
      "text/html": [
       "\n",
       "<style>\n",
       "    /* Turns off some styling */\n",
       "    progress {\n",
       "        /* gets rid of default border in Firefox and Opera. */\n",
       "        border: none;\n",
       "        /* Needs to be in here for Safari polyfill so background images work as expected. */\n",
       "        background-size: auto;\n",
       "    }\n",
       "    progress:not([value]), progress:not([value])::-webkit-progress-bar {\n",
       "        background: repeating-linear-gradient(45deg, #7e7e7e, #7e7e7e 10px, #5c5c5c 10px, #5c5c5c 20px);\n",
       "    }\n",
       "    .progress-bar-interrupted, .progress-bar-interrupted::-webkit-progress-bar {\n",
       "        background: #F44336;\n",
       "    }\n",
       "</style>\n"
      ],
      "text/plain": [
       "<IPython.core.display.HTML object>"
      ]
     },
     "metadata": {},
     "output_type": "display_data"
    },
    {
     "data": {
      "text/html": [
       "<table border=\"1\" class=\"dataframe\">\n",
       "  <thead>\n",
       "    <tr style=\"text-align: left;\">\n",
       "      <th>epoch</th>\n",
       "      <th>train_loss</th>\n",
       "      <th>valid_loss</th>\n",
       "      <th>BLEU</th>\n",
       "      <th>time</th>\n",
       "    </tr>\n",
       "  </thead>\n",
       "  <tbody>\n",
       "    <tr>\n",
       "      <td>0</td>\n",
       "      <td>2.411686</td>\n",
       "      <td>2.358787</td>\n",
       "      <td>7.401550</td>\n",
       "      <td>01:01</td>\n",
       "    </tr>\n",
       "    <tr>\n",
       "      <td>1</td>\n",
       "      <td>1.971459</td>\n",
       "      <td>2.247160</td>\n",
       "      <td>9.289808</td>\n",
       "      <td>01:01</td>\n",
       "    </tr>\n",
       "    <tr>\n",
       "      <td>2</td>\n",
       "      <td>1.696689</td>\n",
       "      <td>2.214976</td>\n",
       "      <td>9.530438</td>\n",
       "      <td>01:02</td>\n",
       "    </tr>\n",
       "    <tr>\n",
       "      <td>3</td>\n",
       "      <td>1.480137</td>\n",
       "      <td>2.256786</td>\n",
       "      <td>10.103760</td>\n",
       "      <td>01:02</td>\n",
       "    </tr>\n",
       "    <tr>\n",
       "      <td>4</td>\n",
       "      <td>1.201818</td>\n",
       "      <td>2.312543</td>\n",
       "      <td>10.259213</td>\n",
       "      <td>01:02</td>\n",
       "    </tr>\n",
       "    <tr>\n",
       "      <td>5</td>\n",
       "      <td>1.073864</td>\n",
       "      <td>2.377290</td>\n",
       "      <td>11.049601</td>\n",
       "      <td>01:02</td>\n",
       "    </tr>\n",
       "    <tr>\n",
       "      <td>6</td>\n",
       "      <td>0.919081</td>\n",
       "      <td>2.467158</td>\n",
       "      <td>10.747728</td>\n",
       "      <td>01:02</td>\n",
       "    </tr>\n",
       "    <tr>\n",
       "      <td>7</td>\n",
       "      <td>0.784801</td>\n",
       "      <td>2.509850</td>\n",
       "      <td>10.436489</td>\n",
       "      <td>01:03</td>\n",
       "    </tr>\n",
       "    <tr>\n",
       "      <td>8</td>\n",
       "      <td>0.643235</td>\n",
       "      <td>2.614029</td>\n",
       "      <td>11.182913</td>\n",
       "      <td>01:02</td>\n",
       "    </tr>\n",
       "    <tr>\n",
       "      <td>9</td>\n",
       "      <td>0.588407</td>\n",
       "      <td>2.638335</td>\n",
       "      <td>10.944775</td>\n",
       "      <td>01:03</td>\n",
       "    </tr>\n",
       "  </tbody>\n",
       "</table>"
      ],
      "text/plain": [
       "<IPython.core.display.HTML object>"
      ]
     },
     "metadata": {},
     "output_type": "display_data"
    }
   ],
   "source": [
    "learn.fit_flat_cos(10, lr=1e-4, div_final=100_000.0, pct_start=0.75)"
   ]
  },
  {
   "cell_type": "code",
   "execution_count": 13,
   "id": "aa321acd-4ccc-4611-ba7b-3934078c556f",
   "metadata": {
    "tags": []
   },
   "outputs": [
    {
     "data": {
      "application/vnd.jupyter.widget-view+json": {
       "model_id": "97fa8a8736254289bc4ae37abc10a10e",
       "version_major": 2,
       "version_minor": 0
      },
      "text/plain": [
       "  0%|          | 0/1471 [00:00<?, ?it/s]"
      ]
     },
     "metadata": {},
     "output_type": "display_data"
    },
    {
     "data": {
      "text/plain": [
       "10.917649583377022"
      ]
     },
     "execution_count": 13,
     "metadata": {},
     "output_type": "execute_result"
    }
   ],
   "source": [
    "translate_func = partial(\n",
    "    translate, model=model, tokenizer=tokenizer, src_lang=\"dyu_Latn\", tgt_lang=\"fra_Latn\"\n",
    ")\n",
    "calculate_bleu(\n",
    "    model, df_valid, translate_func, src_lang=\"dyu_Latn\", tgt_lang=\"fra_Latn\",\n",
    "    preproc_func=preproc\n",
    ")"
   ]
  },
  {
   "cell_type": "code",
   "execution_count": 14,
   "id": "96480811-e589-4e37-846a-a2e795d0f393",
   "metadata": {
    "tags": []
   },
   "outputs": [
    {
     "name": "stdout",
     "output_type": "stream",
     "text": [
      "[2024-09-01 08:29:31,702] [INFO] [real_accelerator.py:158:get_accelerator] Setting ds_accelerator to cuda (auto detect)\n"
     ]
    },
    {
     "name": "stderr",
     "output_type": "stream",
     "text": [
      "Some non-default generation parameters are set in the model config. These should go into a GenerationConfig file (https://huggingface.co/docs/transformers/generation_strategies#save-a-custom-decoding-strategy-with-your-model) instead. This warning will be raised to an exception in v4.41.\n",
      "Non-default generation parameters: {'max_length': 200}\n"
     ]
    },
    {
     "data": {
      "text/plain": [
       "('saved_models/dyu-fra-vocab-freq5/tokenizer_config.json',\n",
       " 'saved_models/dyu-fra-vocab-freq5/special_tokens_map.json',\n",
       " 'saved_models/dyu-fra-vocab-freq5/sentencepiece.bpe.model',\n",
       " 'saved_models/dyu-fra-vocab-freq5/added_tokens.json')"
      ]
     },
     "execution_count": 14,
     "metadata": {},
     "output_type": "execute_result"
    }
   ],
   "source": [
    "MODEL_SAVE_PATH = 'saved_models/dyu-fra-vocab-freq5'\n",
    "model.save_pretrained(MODEL_SAVE_PATH)\n",
    "tokenizer.save_pretrained(MODEL_SAVE_PATH)"
   ]
  },
  {
   "cell_type": "markdown",
   "id": "1f9a0a01-5f8e-4ecc-b5fc-0aa2ee83c075",
   "metadata": {},
   "source": [
    "## STEP 2 - Down-scale and train again\n",
    "\n",
    " - Reduce the number of encoder and decoder layers by a factor of two (12 layers -> 6 layers)\n",
    " - Reduce the dimensions of embdding and linear layers by a factor of 2\n",
    " - Use teacher-student distillation training to train the down-scaled model"
   ]
  },
  {
   "cell_type": "code",
   "execution_count": 15,
   "id": "a2026215-9621-4e35-be8b-b581d0f508dc",
   "metadata": {},
   "outputs": [],
   "source": [
    "BASE_MODEL_ID = \"saved_models/dyu-fra-vocab-freq5\""
   ]
  },
  {
   "cell_type": "markdown",
   "id": "c0452856-58af-440e-8a01-49975765a078",
   "metadata": {},
   "source": [
    "### Load training data"
   ]
  },
  {
   "cell_type": "code",
   "execution_count": 16,
   "id": "72541e40-e403-4f71-a13d-4f713305c7f0",
   "metadata": {
    "tags": []
   },
   "outputs": [
    {
     "data": {
      "application/vnd.jupyter.widget-view+json": {
       "model_id": "d399da5ed57543a29f9d5209a227dbd2",
       "version_major": 2,
       "version_minor": 0
      },
      "text/plain": [
       "Generating train split: 0 examples [00:00, ? examples/s]"
      ]
     },
     "metadata": {},
     "output_type": "display_data"
    },
    {
     "data": {
      "application/vnd.jupyter.widget-view+json": {
       "model_id": "7327130f104c4981acd79cf539c69c7a",
       "version_major": 2,
       "version_minor": 0
      },
      "text/plain": [
       "Generating validation split: 0 examples [00:00, ? examples/s]"
      ]
     },
     "metadata": {},
     "output_type": "display_data"
    },
    {
     "data": {
      "application/vnd.jupyter.widget-view+json": {
       "model_id": "c7fea4489fea4e93a931402eccfdd03e",
       "version_major": 2,
       "version_minor": 0
      },
      "text/plain": [
       "Generating test split: 0 examples [00:00, ? examples/s]"
      ]
     },
     "metadata": {},
     "output_type": "display_data"
    },
    {
     "name": "stdout",
     "output_type": "stream",
     "text": [
      "(74017, 3)\n"
     ]
    },
    {
     "data": {
      "text/html": [
       "<div>\n",
       "<style scoped>\n",
       "    .dataframe tbody tr th:only-of-type {\n",
       "        vertical-align: middle;\n",
       "    }\n",
       "\n",
       "    .dataframe tbody tr th {\n",
       "        vertical-align: top;\n",
       "    }\n",
       "\n",
       "    .dataframe thead th {\n",
       "        text-align: right;\n",
       "    }\n",
       "</style>\n",
       "<table border=\"1\" class=\"dataframe\">\n",
       "  <thead>\n",
       "    <tr style=\"text-align: right;\">\n",
       "      <th></th>\n",
       "      <th>dyu</th>\n",
       "      <th>fr</th>\n",
       "      <th>split</th>\n",
       "    </tr>\n",
       "  </thead>\n",
       "  <tbody>\n",
       "    <tr>\n",
       "      <th>0</th>\n",
       "      <td>A bi ji min na</td>\n",
       "      <td>Il boit de l’eau.</td>\n",
       "      <td>train</td>\n",
       "    </tr>\n",
       "    <tr>\n",
       "      <th>1</th>\n",
       "      <td>A le dalakolontɛ lon bɛ.</td>\n",
       "      <td>Il se plaint toujours.</td>\n",
       "      <td>train</td>\n",
       "    </tr>\n",
       "    <tr>\n",
       "      <th>2</th>\n",
       "      <td>Mun? Fɛn dɔ.</td>\n",
       "      <td>Quoi ? Quelque chose.</td>\n",
       "      <td>train</td>\n",
       "    </tr>\n",
       "    <tr>\n",
       "      <th>3</th>\n",
       "      <td>O bɛ bi bɔra fo Gubeta.</td>\n",
       "      <td>Tous sortent excepté Gubetta.</td>\n",
       "      <td>train</td>\n",
       "    </tr>\n",
       "    <tr>\n",
       "      <th>4</th>\n",
       "      <td>A ale lo bi da bugɔ la!</td>\n",
       "      <td>Ah ! c’est lui… il sonne…</td>\n",
       "      <td>train</td>\n",
       "    </tr>\n",
       "  </tbody>\n",
       "</table>\n",
       "</div>"
      ],
      "text/plain": [
       "                        dyu                             fr  split\n",
       "0            A bi ji min na              Il boit de l’eau.  train\n",
       "1  A le dalakolontɛ lon bɛ.         Il se plaint toujours.  train\n",
       "2              Mun? Fɛn dɔ.          Quoi ? Quelque chose.  train\n",
       "3   O bɛ bi bɔra fo Gubeta.  Tous sortent excepté Gubetta.  train\n",
       "4   A ale lo bi da bugɔ la!      Ah ! c’est lui… il sonne…  train"
      ]
     },
     "execution_count": 16,
     "metadata": {},
     "output_type": "execute_result"
    }
   ],
   "source": [
    "df = load_from_json(\n",
    "    train_files=[\n",
    "        \"data/dataset_train.json\",\n",
    "        \"data/dataset_bt_train.json\",\n",
    "        \"data/dataset_bt_test.json\",\n",
    "        # \"data/dataset_validation.json\", \"data/dataset_bt_validation.json\"\n",
    "    ],\n",
    "    valid_files=\"data/dataset_validation.json\",\n",
    "    test_files=\"data/dataset_test.json\",\n",
    "    return_format=\"df\"\n",
    ")\n",
    "print(df.shape)\n",
    "df.head()"
   ]
  },
  {
   "cell_type": "code",
   "execution_count": 17,
   "id": "cb33c33f-a74b-43a5-ac3a-8fc1a7bd233b",
   "metadata": {
    "tags": []
   },
   "outputs": [],
   "source": [
    "df_train = df[df[\"split\"] == \"train\"].copy()\n",
    "df_valid = df[df[\"split\"]== \"validation\"].copy()\n",
    "df_test = df[df[\"split\"]== \"test\"].copy()\n",
    "assert len(df_train) + len(df_valid) + len(df_test) == len(df)"
   ]
  },
  {
   "cell_type": "markdown",
   "id": "bab9a970-10df-400b-aacf-5989e2005654",
   "metadata": {},
   "source": [
    "### Load/instantiate models"
   ]
  },
  {
   "cell_type": "markdown",
   "id": "eeb801ed-3fb0-49f2-97c2-3f02d7e050bd",
   "metadata": {},
   "source": [
    "Load the teacher model:"
   ]
  },
  {
   "cell_type": "code",
   "execution_count": 18,
   "id": "c01c43e3-7328-445d-8919-132ce925d459",
   "metadata": {
    "tags": []
   },
   "outputs": [
    {
     "name": "stdout",
     "output_type": "stream",
     "text": [
      "Memory footprint: 1.34GB\n"
     ]
    }
   ],
   "source": [
    "tokenizer = NllbTokenizer.from_pretrained(BASE_MODEL_ID)\n",
    "teacher_model = AutoModelForSeq2SeqLM.from_pretrained(BASE_MODEL_ID, device_map=\"cuda\")\n",
    "print(f\"Memory footprint: {teacher_model.get_memory_footprint() / 1024**3 :.2f}GB\")"
   ]
  },
  {
   "cell_type": "markdown",
   "id": "08d54ee6-5e63-4189-973d-21f69779d7c4",
   "metadata": {},
   "source": [
    "Create the student model as a pruned version of the teacher:"
   ]
  },
  {
   "cell_type": "code",
   "execution_count": 19,
   "id": "6c0eb588-97e6-44cb-a9fe-2eb25bc89345",
   "metadata": {
    "tags": []
   },
   "outputs": [
    {
     "name": "stdout",
     "output_type": "stream",
     "text": [
      "Memory footprint: 0.17GB\n"
     ]
    }
   ],
   "source": [
    "student_model = prune(teacher_model, size_factor=2, layer_size_factor=2, dim_strategy=\"alternate\", layer_strategy=\"alternate\")"
   ]
  },
  {
   "cell_type": "markdown",
   "id": "76dc4708-2760-42a3-80b4-f4f1741a377a",
   "metadata": {},
   "source": [
    "### Create dataloaders and train"
   ]
  },
  {
   "cell_type": "code",
   "execution_count": 20,
   "id": "9821382d-e0e4-437c-b871-915e99370a31",
   "metadata": {
    "tags": []
   },
   "outputs": [],
   "source": [
    "dls = create_dataloaders(\n",
    "    df_train[[\"dyu\", \"fr\"]], df_valid[[\"dyu\", \"fr\"]], tokenizer, bs=256,\n",
    "    src_lang=\"dyu_Latn\", tgt_lang=\"fra_Latn\", preproc_func=preproc,\n",
    "    max_length=128\n",
    ")"
   ]
  },
  {
   "cell_type": "code",
   "execution_count": 21,
   "id": "ec86cee3-daae-400e-bf75-5e288880e038",
   "metadata": {
    "tags": []
   },
   "outputs": [],
   "source": [
    "learn = create_distillation_learner(\n",
    "    dls, student_model, teacher_model, tokenizer, src_lang=\"dyu_Latn\", tgt_lang=\"fra_Latn\"\n",
    ")"
   ]
  },
  {
   "cell_type": "code",
   "execution_count": 22,
   "id": "5912816e-0b0f-446f-bbf8-2c25450a7378",
   "metadata": {
    "tags": []
   },
   "outputs": [
    {
     "data": {
      "text/html": [
       "\n",
       "<style>\n",
       "    /* Turns off some styling */\n",
       "    progress {\n",
       "        /* gets rid of default border in Firefox and Opera. */\n",
       "        border: none;\n",
       "        /* Needs to be in here for Safari polyfill so background images work as expected. */\n",
       "        background-size: auto;\n",
       "    }\n",
       "    progress:not([value]), progress:not([value])::-webkit-progress-bar {\n",
       "        background: repeating-linear-gradient(45deg, #7e7e7e, #7e7e7e 10px, #5c5c5c 10px, #5c5c5c 20px);\n",
       "    }\n",
       "    .progress-bar-interrupted, .progress-bar-interrupted::-webkit-progress-bar {\n",
       "        background: #F44336;\n",
       "    }\n",
       "</style>\n"
      ],
      "text/plain": [
       "<IPython.core.display.HTML object>"
      ]
     },
     "metadata": {},
     "output_type": "display_data"
    },
    {
     "data": {
      "text/html": [],
      "text/plain": [
       "<IPython.core.display.HTML object>"
      ]
     },
     "metadata": {},
     "output_type": "display_data"
    },
    {
     "data": {
      "text/plain": [
       "SuggestedLRs(valley=0.0008317637839354575)"
      ]
     },
     "execution_count": 22,
     "metadata": {},
     "output_type": "execute_result"
    },
    {
     "data": {
      "image/png": "[encoded data removed]",
      "text/plain": [
       "<Figure size 640x480 with 1 Axes>"
      ]
     },
     "metadata": {},
     "output_type": "display_data"
    }
   ],
   "source": [
    "learn.lr_find()"
   ]
  },
  {
   "cell_type": "code",
   "execution_count": 23,
   "id": "f8d8ebcc-3b26-496e-abc8-d12dacf7ab42",
   "metadata": {
    "tags": []
   },
   "outputs": [
    {
     "data": {
      "text/html": [
       "\n",
       "<style>\n",
       "    /* Turns off some styling */\n",
       "    progress {\n",
       "        /* gets rid of default border in Firefox and Opera. */\n",
       "        border: none;\n",
       "        /* Needs to be in here for Safari polyfill so background images work as expected. */\n",
       "        background-size: auto;\n",
       "    }\n",
       "    progress:not([value]), progress:not([value])::-webkit-progress-bar {\n",
       "        background: repeating-linear-gradient(45deg, #7e7e7e, #7e7e7e 10px, #5c5c5c 10px, #5c5c5c 20px);\n",
       "    }\n",
       "    .progress-bar-interrupted, .progress-bar-interrupted::-webkit-progress-bar {\n",
       "        background: #F44336;\n",
       "    }\n",
       "</style>\n"
      ],
      "text/plain": [
       "<IPython.core.display.HTML object>"
      ]
     },
     "metadata": {},
     "output_type": "display_data"
    },
    {
     "data": {
      "text/html": [
       "<table border=\"1\" class=\"dataframe\">\n",
       "  <thead>\n",
       "    <tr style=\"text-align: left;\">\n",
       "      <th>epoch</th>\n",
       "      <th>train_loss</th>\n",
       "      <th>valid_loss</th>\n",
       "      <th>BLEU</th>\n",
       "      <th>time</th>\n",
       "    </tr>\n",
       "  </thead>\n",
       "  <tbody>\n",
       "    <tr>\n",
       "      <td>0</td>\n",
       "      <td>190.155365</td>\n",
       "      <td>176.570526</td>\n",
       "      <td>0.044542</td>\n",
       "      <td>03:17</td>\n",
       "    </tr>\n",
       "    <tr>\n",
       "      <td>1</td>\n",
       "      <td>171.794891</td>\n",
       "      <td>158.197845</td>\n",
       "      <td>0.473244</td>\n",
       "      <td>03:18</td>\n",
       "    </tr>\n",
       "    <tr>\n",
       "      <td>2</td>\n",
       "      <td>162.892990</td>\n",
       "      <td>151.593796</td>\n",
       "      <td>0.508094</td>\n",
       "      <td>03:18</td>\n",
       "    </tr>\n",
       "    <tr>\n",
       "      <td>3</td>\n",
       "      <td>156.048859</td>\n",
       "      <td>145.747543</td>\n",
       "      <td>1.027050</td>\n",
       "      <td>03:17</td>\n",
       "    </tr>\n",
       "    <tr>\n",
       "      <td>4</td>\n",
       "      <td>148.138916</td>\n",
       "      <td>141.051193</td>\n",
       "      <td>1.942593</td>\n",
       "      <td>03:17</td>\n",
       "    </tr>\n",
       "    <tr>\n",
       "      <td>5</td>\n",
       "      <td>144.127289</td>\n",
       "      <td>138.705307</td>\n",
       "      <td>2.378448</td>\n",
       "      <td>03:18</td>\n",
       "    </tr>\n",
       "    <tr>\n",
       "      <td>6</td>\n",
       "      <td>144.674164</td>\n",
       "      <td>137.950623</td>\n",
       "      <td>2.545489</td>\n",
       "      <td>03:17</td>\n",
       "    </tr>\n",
       "    <tr>\n",
       "      <td>7</td>\n",
       "      <td>142.739334</td>\n",
       "      <td>137.370026</td>\n",
       "      <td>3.648202</td>\n",
       "      <td>03:18</td>\n",
       "    </tr>\n",
       "    <tr>\n",
       "      <td>8</td>\n",
       "      <td>137.093414</td>\n",
       "      <td>133.952057</td>\n",
       "      <td>5.659556</td>\n",
       "      <td>03:16</td>\n",
       "    </tr>\n",
       "    <tr>\n",
       "      <td>9</td>\n",
       "      <td>137.559265</td>\n",
       "      <td>131.593170</td>\n",
       "      <td>6.889184</td>\n",
       "      <td>03:18</td>\n",
       "    </tr>\n",
       "    <tr>\n",
       "      <td>10</td>\n",
       "      <td>132.150085</td>\n",
       "      <td>129.651398</td>\n",
       "      <td>7.156705</td>\n",
       "      <td>03:16</td>\n",
       "    </tr>\n",
       "    <tr>\n",
       "      <td>11</td>\n",
       "      <td>131.788025</td>\n",
       "      <td>128.565140</td>\n",
       "      <td>7.563393</td>\n",
       "      <td>03:18</td>\n",
       "    </tr>\n",
       "    <tr>\n",
       "      <td>12</td>\n",
       "      <td>131.676392</td>\n",
       "      <td>127.798233</td>\n",
       "      <td>8.079810</td>\n",
       "      <td>03:17</td>\n",
       "    </tr>\n",
       "    <tr>\n",
       "      <td>13</td>\n",
       "      <td>128.539978</td>\n",
       "      <td>127.304321</td>\n",
       "      <td>8.185318</td>\n",
       "      <td>03:16</td>\n",
       "    </tr>\n",
       "    <tr>\n",
       "      <td>14</td>\n",
       "      <td>129.768280</td>\n",
       "      <td>127.256248</td>\n",
       "      <td>8.337800</td>\n",
       "      <td>03:17</td>\n",
       "    </tr>\n",
       "    <tr>\n",
       "      <td>15</td>\n",
       "      <td>130.087753</td>\n",
       "      <td>128.988724</td>\n",
       "      <td>6.742151</td>\n",
       "      <td>03:16</td>\n",
       "    </tr>\n",
       "    <tr>\n",
       "      <td>16</td>\n",
       "      <td>130.506317</td>\n",
       "      <td>128.284027</td>\n",
       "      <td>7.778871</td>\n",
       "      <td>03:17</td>\n",
       "    </tr>\n",
       "    <tr>\n",
       "      <td>17</td>\n",
       "      <td>130.568176</td>\n",
       "      <td>127.391640</td>\n",
       "      <td>8.005594</td>\n",
       "      <td>03:18</td>\n",
       "    </tr>\n",
       "    <tr>\n",
       "      <td>18</td>\n",
       "      <td>130.070801</td>\n",
       "      <td>126.887611</td>\n",
       "      <td>8.204722</td>\n",
       "      <td>03:19</td>\n",
       "    </tr>\n",
       "    <tr>\n",
       "      <td>19</td>\n",
       "      <td>128.956909</td>\n",
       "      <td>126.124985</td>\n",
       "      <td>8.530020</td>\n",
       "      <td>03:18</td>\n",
       "    </tr>\n",
       "    <tr>\n",
       "      <td>20</td>\n",
       "      <td>129.753326</td>\n",
       "      <td>125.273521</td>\n",
       "      <td>8.912986</td>\n",
       "      <td>03:18</td>\n",
       "    </tr>\n",
       "    <tr>\n",
       "      <td>21</td>\n",
       "      <td>127.939880</td>\n",
       "      <td>125.074440</td>\n",
       "      <td>9.015204</td>\n",
       "      <td>03:18</td>\n",
       "    </tr>\n",
       "    <tr>\n",
       "      <td>22</td>\n",
       "      <td>130.365524</td>\n",
       "      <td>124.428444</td>\n",
       "      <td>9.074752</td>\n",
       "      <td>03:18</td>\n",
       "    </tr>\n",
       "    <tr>\n",
       "      <td>23</td>\n",
       "      <td>126.956367</td>\n",
       "      <td>124.095726</td>\n",
       "      <td>9.411539</td>\n",
       "      <td>03:18</td>\n",
       "    </tr>\n",
       "    <tr>\n",
       "      <td>24</td>\n",
       "      <td>128.297882</td>\n",
       "      <td>123.817200</td>\n",
       "      <td>9.114373</td>\n",
       "      <td>03:19</td>\n",
       "    </tr>\n",
       "    <tr>\n",
       "      <td>25</td>\n",
       "      <td>128.240570</td>\n",
       "      <td>123.580345</td>\n",
       "      <td>9.325523</td>\n",
       "      <td>03:19</td>\n",
       "    </tr>\n",
       "    <tr>\n",
       "      <td>26</td>\n",
       "      <td>126.492165</td>\n",
       "      <td>123.233658</td>\n",
       "      <td>9.728387</td>\n",
       "      <td>03:20</td>\n",
       "    </tr>\n",
       "    <tr>\n",
       "      <td>27</td>\n",
       "      <td>127.583687</td>\n",
       "      <td>123.133263</td>\n",
       "      <td>9.418694</td>\n",
       "      <td>03:17</td>\n",
       "    </tr>\n",
       "    <tr>\n",
       "      <td>28</td>\n",
       "      <td>126.657578</td>\n",
       "      <td>123.005814</td>\n",
       "      <td>9.631560</td>\n",
       "      <td>03:18</td>\n",
       "    </tr>\n",
       "    <tr>\n",
       "      <td>29</td>\n",
       "      <td>126.676567</td>\n",
       "      <td>122.956589</td>\n",
       "      <td>9.476561</td>\n",
       "      <td>03:18</td>\n",
       "    </tr>\n",
       "    <tr>\n",
       "      <td>30</td>\n",
       "      <td>126.648117</td>\n",
       "      <td>122.959702</td>\n",
       "      <td>9.513474</td>\n",
       "      <td>03:18</td>\n",
       "    </tr>\n",
       "  </tbody>\n",
       "</table>"
      ],
      "text/plain": [
       "<IPython.core.display.HTML object>"
      ]
     },
     "metadata": {},
     "output_type": "display_data"
    }
   ],
   "source": [
    "learn.fit_sgdr(5, 1, cycle_mult=2, lr_max=1e-3)"
   ]
  },
  {
   "cell_type": "code",
   "execution_count": 24,
   "id": "17e97208-2d70-4d11-af83-e970b6a316bd",
   "metadata": {
    "tags": []
   },
   "outputs": [
    {
     "data": {
      "application/vnd.jupyter.widget-view+json": {
       "model_id": "2af5548a61844bddad4c06ee1a67a519",
       "version_major": 2,
       "version_minor": 0
      },
      "text/plain": [
       "  0%|          | 0/1471 [00:00<?, ?it/s]"
      ]
     },
     "metadata": {},
     "output_type": "display_data"
    },
    {
     "data": {
      "text/plain": [
       "9.612240553469217"
      ]
     },
     "execution_count": 24,
     "metadata": {},
     "output_type": "execute_result"
    }
   ],
   "source": [
    "translate_func = partial(\n",
    "    translate, model=student_model, tokenizer=tokenizer, src_lang=\"dyu_Latn\", tgt_lang=\"fra_Latn\"\n",
    ")\n",
    "calculate_bleu(\n",
    "    student_model, df_valid, translate_func, src_lang=\"dyu_Latn\", tgt_lang=\"fra_Latn\",\n",
    "    preproc_func=preproc\n",
    ")"
   ]
  },
  {
   "cell_type": "code",
   "execution_count": 25,
   "id": "316f4182-323e-442a-bd86-2d6ffa3c3676",
   "metadata": {
    "tags": []
   },
   "outputs": [
    {
     "name": "stderr",
     "output_type": "stream",
     "text": [
      "Some non-default generation parameters are set in the model config. These should go into a GenerationConfig file (https://huggingface.co/docs/transformers/generation_strategies#save-a-custom-decoding-strategy-with-your-model) instead. This warning will be raised to an exception in v4.41.\n",
      "Non-default generation parameters: {'max_length': 200}\n"
     ]
    },
    {
     "data": {
      "text/plain": [
       "('./tmp/tokenizer_config.json',\n",
       " './tmp/special_tokens_map.json',\n",
       " './tmp/sentencepiece.bpe.model',\n",
       " './tmp/added_tokens.json')"
      ]
     },
     "execution_count": 25,
     "metadata": {},
     "output_type": "execute_result"
    }
   ],
   "source": [
    "MODEL_SAVE_PATH = './tmp'\n",
    "student_model.save_pretrained(MODEL_SAVE_PATH)\n",
    "tokenizer.save_pretrained(MODEL_SAVE_PATH)"
   ]
  },
  {
   "cell_type": "code",
   "execution_count": 26,
   "id": "3c8cb1dd-badc-4771-8aad-b5d8fbaed015",
   "metadata": {
    "tags": []
   },
   "outputs": [],
   "source": [
    "del teacher_model, student_model\n",
    "cleanup()"
   ]
  },
  {
   "cell_type": "markdown",
   "id": "3265195a-4137-4f17-bb90-a64b206f3845",
   "metadata": {},
   "source": [
    "## STEP 3 - Down-scale for the last time\n",
    "\n",
    " - Use the model from Step 2 as the teacher\n",
    " - Reduce the number of encoder and decoder layers by a factor of two (6 layers -> 3 layers)\n",
    " - Reduce the dimensions of embdding and linear layers by a factor of 2\n",
    " - Use teacher-student distillation training to train the down-scaled model"
   ]
  },
  {
   "cell_type": "markdown",
   "id": "cc214714-f4f3-4f32-90cd-2701c73d10c1",
   "metadata": {},
   "source": [
    "### Load the teacher and student models:"
   ]
  },
  {
   "cell_type": "code",
   "execution_count": 27,
   "id": "b329164a-fea1-4641-8a26-1fea38e96532",
   "metadata": {
    "tags": []
   },
   "outputs": [
    {
     "name": "stdout",
     "output_type": "stream",
     "text": [
      "Memory footprint: 0.17GB\n",
      "Memory footprint: 0.02GB\n"
     ]
    }
   ],
   "source": [
    "BASE_MODEL_ID = \"./tmp\"\n",
    "tokenizer = NllbTokenizer.from_pretrained(BASE_MODEL_ID)\n",
    "teacher_model = AutoModelForSeq2SeqLM.from_pretrained(BASE_MODEL_ID, device_map=\"cuda\")\n",
    "print(f\"Memory footprint: {teacher_model.get_memory_footprint() / 1024**3 :.2f}GB\")\n",
    "student_model = prune(\n",
    "    teacher_model, size_factor=2, layer_size_factor=2, dim_strategy=\"alternate\", layer_strategy=\"alternate\"\n",
    ")"
   ]
  },
  {
   "cell_type": "markdown",
   "id": "22f5f897-aa60-431f-9b8a-82ea6089b327",
   "metadata": {},
   "source": [
    "### Create `Learner` and train:"
   ]
  },
  {
   "cell_type": "code",
   "execution_count": 28,
   "id": "25a6b020-d565-4fbf-81bc-047748eb8f07",
   "metadata": {
    "tags": []
   },
   "outputs": [],
   "source": [
    "learn = create_distillation_learner(\n",
    "    dls, student_model, teacher_model, tokenizer, src_lang=\"dyu_Latn\", tgt_lang=\"fra_Latn\"\n",
    ")"
   ]
  },
  {
   "cell_type": "code",
   "execution_count": 29,
   "id": "b9913eba-873d-4c2d-bb48-0b45f4235fc1",
   "metadata": {
    "tags": []
   },
   "outputs": [
    {
     "data": {
      "text/html": [
       "\n",
       "<style>\n",
       "    /* Turns off some styling */\n",
       "    progress {\n",
       "        /* gets rid of default border in Firefox and Opera. */\n",
       "        border: none;\n",
       "        /* Needs to be in here for Safari polyfill so background images work as expected. */\n",
       "        background-size: auto;\n",
       "    }\n",
       "    progress:not([value]), progress:not([value])::-webkit-progress-bar {\n",
       "        background: repeating-linear-gradient(45deg, #7e7e7e, #7e7e7e 10px, #5c5c5c 10px, #5c5c5c 20px);\n",
       "    }\n",
       "    .progress-bar-interrupted, .progress-bar-interrupted::-webkit-progress-bar {\n",
       "        background: #F44336;\n",
       "    }\n",
       "</style>\n"
      ],
      "text/plain": [
       "<IPython.core.display.HTML object>"
      ]
     },
     "metadata": {},
     "output_type": "display_data"
    },
    {
     "data": {
      "text/html": [
       "<table border=\"1\" class=\"dataframe\">\n",
       "  <thead>\n",
       "    <tr style=\"text-align: left;\">\n",
       "      <th>epoch</th>\n",
       "      <th>train_loss</th>\n",
       "      <th>valid_loss</th>\n",
       "      <th>BLEU</th>\n",
       "      <th>time</th>\n",
       "    </tr>\n",
       "  </thead>\n",
       "  <tbody>\n",
       "    <tr>\n",
       "      <td>0</td>\n",
       "      <td>161.386353</td>\n",
       "      <td>145.436066</td>\n",
       "      <td>0.040205</td>\n",
       "      <td>00:48</td>\n",
       "    </tr>\n",
       "    <tr>\n",
       "      <td>1</td>\n",
       "      <td>141.510590</td>\n",
       "      <td>126.587967</td>\n",
       "      <td>0.734485</td>\n",
       "      <td>00:48</td>\n",
       "    </tr>\n",
       "    <tr>\n",
       "      <td>2</td>\n",
       "      <td>136.791504</td>\n",
       "      <td>123.630386</td>\n",
       "      <td>1.833860</td>\n",
       "      <td>00:48</td>\n",
       "    </tr>\n",
       "    <tr>\n",
       "      <td>3</td>\n",
       "      <td>128.055130</td>\n",
       "      <td>118.531044</td>\n",
       "      <td>3.083235</td>\n",
       "      <td>00:48</td>\n",
       "    </tr>\n",
       "    <tr>\n",
       "      <td>4</td>\n",
       "      <td>123.868584</td>\n",
       "      <td>115.380203</td>\n",
       "      <td>4.720419</td>\n",
       "      <td>00:49</td>\n",
       "    </tr>\n",
       "    <tr>\n",
       "      <td>5</td>\n",
       "      <td>120.333290</td>\n",
       "      <td>114.051071</td>\n",
       "      <td>5.439855</td>\n",
       "      <td>00:48</td>\n",
       "    </tr>\n",
       "    <tr>\n",
       "      <td>6</td>\n",
       "      <td>120.836754</td>\n",
       "      <td>113.733322</td>\n",
       "      <td>5.349638</td>\n",
       "      <td>00:49</td>\n",
       "    </tr>\n",
       "    <tr>\n",
       "      <td>7</td>\n",
       "      <td>119.155739</td>\n",
       "      <td>113.323608</td>\n",
       "      <td>6.211331</td>\n",
       "      <td>00:48</td>\n",
       "    </tr>\n",
       "    <tr>\n",
       "      <td>8</td>\n",
       "      <td>119.090385</td>\n",
       "      <td>111.878990</td>\n",
       "      <td>6.629793</td>\n",
       "      <td>00:49</td>\n",
       "    </tr>\n",
       "    <tr>\n",
       "      <td>9</td>\n",
       "      <td>116.143425</td>\n",
       "      <td>110.914940</td>\n",
       "      <td>6.739334</td>\n",
       "      <td>00:49</td>\n",
       "    </tr>\n",
       "    <tr>\n",
       "      <td>10</td>\n",
       "      <td>115.612808</td>\n",
       "      <td>109.995995</td>\n",
       "      <td>6.978290</td>\n",
       "      <td>00:49</td>\n",
       "    </tr>\n",
       "    <tr>\n",
       "      <td>11</td>\n",
       "      <td>113.306068</td>\n",
       "      <td>109.448158</td>\n",
       "      <td>7.431891</td>\n",
       "      <td>00:48</td>\n",
       "    </tr>\n",
       "    <tr>\n",
       "      <td>12</td>\n",
       "      <td>114.479065</td>\n",
       "      <td>109.046707</td>\n",
       "      <td>7.127878</td>\n",
       "      <td>00:49</td>\n",
       "    </tr>\n",
       "    <tr>\n",
       "      <td>13</td>\n",
       "      <td>113.437492</td>\n",
       "      <td>108.882065</td>\n",
       "      <td>7.240656</td>\n",
       "      <td>00:48</td>\n",
       "    </tr>\n",
       "    <tr>\n",
       "      <td>14</td>\n",
       "      <td>112.530052</td>\n",
       "      <td>108.837563</td>\n",
       "      <td>7.254640</td>\n",
       "      <td>00:49</td>\n",
       "    </tr>\n",
       "    <tr>\n",
       "      <td>15</td>\n",
       "      <td>114.545357</td>\n",
       "      <td>109.620422</td>\n",
       "      <td>6.913561</td>\n",
       "      <td>00:48</td>\n",
       "    </tr>\n",
       "    <tr>\n",
       "      <td>16</td>\n",
       "      <td>113.557236</td>\n",
       "      <td>109.103493</td>\n",
       "      <td>7.370964</td>\n",
       "      <td>00:49</td>\n",
       "    </tr>\n",
       "    <tr>\n",
       "      <td>17</td>\n",
       "      <td>114.217422</td>\n",
       "      <td>108.667625</td>\n",
       "      <td>6.991700</td>\n",
       "      <td>00:49</td>\n",
       "    </tr>\n",
       "    <tr>\n",
       "      <td>18</td>\n",
       "      <td>112.446976</td>\n",
       "      <td>108.377403</td>\n",
       "      <td>7.391055</td>\n",
       "      <td>00:48</td>\n",
       "    </tr>\n",
       "    <tr>\n",
       "      <td>19</td>\n",
       "      <td>113.650520</td>\n",
       "      <td>108.033531</td>\n",
       "      <td>7.845476</td>\n",
       "      <td>00:49</td>\n",
       "    </tr>\n",
       "    <tr>\n",
       "      <td>20</td>\n",
       "      <td>110.742439</td>\n",
       "      <td>107.713577</td>\n",
       "      <td>7.869016</td>\n",
       "      <td>00:49</td>\n",
       "    </tr>\n",
       "    <tr>\n",
       "      <td>21</td>\n",
       "      <td>111.105927</td>\n",
       "      <td>107.380020</td>\n",
       "      <td>8.030185</td>\n",
       "      <td>00:49</td>\n",
       "    </tr>\n",
       "    <tr>\n",
       "      <td>22</td>\n",
       "      <td>111.550400</td>\n",
       "      <td>107.138832</td>\n",
       "      <td>8.153891</td>\n",
       "      <td>00:49</td>\n",
       "    </tr>\n",
       "    <tr>\n",
       "      <td>23</td>\n",
       "      <td>111.419121</td>\n",
       "      <td>107.045975</td>\n",
       "      <td>8.272917</td>\n",
       "      <td>00:49</td>\n",
       "    </tr>\n",
       "    <tr>\n",
       "      <td>24</td>\n",
       "      <td>110.175072</td>\n",
       "      <td>106.788162</td>\n",
       "      <td>8.018647</td>\n",
       "      <td>00:49</td>\n",
       "    </tr>\n",
       "    <tr>\n",
       "      <td>25</td>\n",
       "      <td>109.738747</td>\n",
       "      <td>106.577469</td>\n",
       "      <td>7.933211</td>\n",
       "      <td>00:49</td>\n",
       "    </tr>\n",
       "    <tr>\n",
       "      <td>26</td>\n",
       "      <td>109.743286</td>\n",
       "      <td>106.488876</td>\n",
       "      <td>8.317349</td>\n",
       "      <td>00:49</td>\n",
       "    </tr>\n",
       "    <tr>\n",
       "      <td>27</td>\n",
       "      <td>108.573608</td>\n",
       "      <td>106.399704</td>\n",
       "      <td>8.105948</td>\n",
       "      <td>00:48</td>\n",
       "    </tr>\n",
       "    <tr>\n",
       "      <td>28</td>\n",
       "      <td>109.989334</td>\n",
       "      <td>106.337601</td>\n",
       "      <td>8.352769</td>\n",
       "      <td>00:49</td>\n",
       "    </tr>\n",
       "    <tr>\n",
       "      <td>29</td>\n",
       "      <td>108.902786</td>\n",
       "      <td>106.321228</td>\n",
       "      <td>8.305860</td>\n",
       "      <td>00:49</td>\n",
       "    </tr>\n",
       "    <tr>\n",
       "      <td>30</td>\n",
       "      <td>110.458206</td>\n",
       "      <td>106.309181</td>\n",
       "      <td>8.386275</td>\n",
       "      <td>00:49</td>\n",
       "    </tr>\n",
       "  </tbody>\n",
       "</table>"
      ],
      "text/plain": [
       "<IPython.core.display.HTML object>"
      ]
     },
     "metadata": {},
     "output_type": "display_data"
    }
   ],
   "source": [
    "learn.fit_sgdr(5, 1, cycle_mult=2, lr_max=1e-3)"
   ]
  },
  {
   "cell_type": "code",
   "execution_count": 30,
   "id": "1083e666-5f68-4011-994c-e498cf84fc4d",
   "metadata": {
    "tags": []
   },
   "outputs": [
    {
     "data": {
      "application/vnd.jupyter.widget-view+json": {
       "model_id": "6d9125f1381545178627da689b6ab9b0",
       "version_major": 2,
       "version_minor": 0
      },
      "text/plain": [
       "  0%|          | 0/1471 [00:00<?, ?it/s]"
      ]
     },
     "metadata": {},
     "output_type": "display_data"
    },
    {
     "data": {
      "text/plain": [
       "8.32036716982674"
      ]
     },
     "execution_count": 30,
     "metadata": {},
     "output_type": "execute_result"
    }
   ],
   "source": [
    "translate_func = partial(\n",
    "    translate, model=student_model, tokenizer=tokenizer, src_lang=\"dyu_Latn\", tgt_lang=\"fra_Latn\"\n",
    ")\n",
    "calculate_bleu(\n",
    "    student_model, df_valid, translate_func, src_lang=\"dyu_Latn\", tgt_lang=\"fra_Latn\",\n",
    "    preproc_func=preproc\n",
    ")"
   ]
  },
  {
   "cell_type": "code",
   "execution_count": 31,
   "id": "96a7fc6e-535d-436c-ad5b-544389da28f1",
   "metadata": {
    "tags": []
   },
   "outputs": [
    {
     "name": "stderr",
     "output_type": "stream",
     "text": [
      "Some non-default generation parameters are set in the model config. These should go into a GenerationConfig file (https://huggingface.co/docs/transformers/generation_strategies#save-a-custom-decoding-strategy-with-your-model) instead. This warning will be raised to an exception in v4.41.\n",
      "Non-default generation parameters: {'max_length': 200}\n"
     ]
    },
    {
     "data": {
      "text/plain": [
       "('saved_models/nllb-dyu-fr-distilled/tokenizer_config.json',\n",
       " 'saved_models/nllb-dyu-fr-distilled/special_tokens_map.json',\n",
       " 'saved_models/nllb-dyu-fr-distilled/sentencepiece.bpe.model',\n",
       " 'saved_models/nllb-dyu-fr-distilled/added_tokens.json')"
      ]
     },
     "execution_count": 31,
     "metadata": {},
     "output_type": "execute_result"
    }
   ],
   "source": [
    "MODEL_SAVE_PATH = 'saved_models/nllb-dyu-fr-distilled'\n",
    "student_model.save_pretrained(MODEL_SAVE_PATH)\n",
    "tokenizer.save_pretrained(MODEL_SAVE_PATH)"
   ]
  },
  {
   "cell_type": "markdown",
   "id": "32fc7a74-24e1-4a81-b600-81f3263606b6",
   "metadata": {},
   "source": [
    "## Finally, fine-tune on the original training data only:"
   ]
  },
  {
   "cell_type": "markdown",
   "id": "613ad60b-f887-47fe-bb1c-652eeafca690",
   "metadata": {},
   "source": [
    "### Load data"
   ]
  },
  {
   "cell_type": "code",
   "execution_count": 32,
   "id": "2ad81c75-8631-4bc5-bc37-7ee57cd2bf8b",
   "metadata": {
    "tags": []
   },
   "outputs": [],
   "source": [
    "df = load_from_json(\n",
    "    train_files=\"data/dataset_train.json\",\n",
    "    valid_files=\"data/dataset_validation.json\",\n",
    "    test_files=\"data/dataset_test.json\",\n",
    "    return_format=\"df\"\n",
    ")\n",
    "df_train = df[df[\"split\"] == \"train\"].copy()\n",
    "df_valid = df[df[\"split\"]== \"validation\"].copy()\n",
    "df_test = df[df[\"split\"]== \"test\"].copy()\n",
    "assert len(df_train) + len(df_valid) + len(df_test) == len(df)"
   ]
  },
  {
   "cell_type": "markdown",
   "id": "ea414a99-e32b-40ea-8fc1-669fc1aa3c12",
   "metadata": {},
   "source": [
    "### Create dataloaders and train"
   ]
  },
  {
   "cell_type": "code",
   "execution_count": 33,
   "id": "bd918c4b-4809-4856-943a-a7cc8f15efba",
   "metadata": {
    "tags": []
   },
   "outputs": [],
   "source": [
    "dls = create_dataloaders(\n",
    "    df_train[[\"dyu\", \"fr\"]], df_valid[[\"dyu\", \"fr\"]], tokenizer, bs=128,\n",
    "    src_lang=\"dyu_Latn\", tgt_lang=\"fra_Latn\", preproc_func=preproc,\n",
    "    max_length=128\n",
    ")\n",
    "learn = create_learner(dls, student_model, tokenizer, src_lang=\"dyu_Latn\", tgt_lang=\"fra_Latn\")"
   ]
  },
  {
   "cell_type": "code",
   "execution_count": 34,
   "id": "624ad5cd-9d2d-4439-ae68-6750ae2db355",
   "metadata": {
    "tags": []
   },
   "outputs": [
    {
     "data": {
      "text/html": [
       "\n",
       "<style>\n",
       "    /* Turns off some styling */\n",
       "    progress {\n",
       "        /* gets rid of default border in Firefox and Opera. */\n",
       "        border: none;\n",
       "        /* Needs to be in here for Safari polyfill so background images work as expected. */\n",
       "        background-size: auto;\n",
       "    }\n",
       "    progress:not([value]), progress:not([value])::-webkit-progress-bar {\n",
       "        background: repeating-linear-gradient(45deg, #7e7e7e, #7e7e7e 10px, #5c5c5c 10px, #5c5c5c 20px);\n",
       "    }\n",
       "    .progress-bar-interrupted, .progress-bar-interrupted::-webkit-progress-bar {\n",
       "        background: #F44336;\n",
       "    }\n",
       "</style>\n"
      ],
      "text/plain": [
       "<IPython.core.display.HTML object>"
      ]
     },
     "metadata": {},
     "output_type": "display_data"
    },
    {
     "data": {
      "text/html": [
       "<table border=\"1\" class=\"dataframe\">\n",
       "  <thead>\n",
       "    <tr style=\"text-align: left;\">\n",
       "      <th>epoch</th>\n",
       "      <th>train_loss</th>\n",
       "      <th>valid_loss</th>\n",
       "      <th>BLEU</th>\n",
       "      <th>time</th>\n",
       "    </tr>\n",
       "  </thead>\n",
       "  <tbody>\n",
       "    <tr>\n",
       "      <td>0</td>\n",
       "      <td>1.340048</td>\n",
       "      <td>2.879955</td>\n",
       "      <td>8.018981</td>\n",
       "      <td>00:04</td>\n",
       "    </tr>\n",
       "    <tr>\n",
       "      <td>1</td>\n",
       "      <td>1.320090</td>\n",
       "      <td>2.873580</td>\n",
       "      <td>8.208049</td>\n",
       "      <td>00:04</td>\n",
       "    </tr>\n",
       "    <tr>\n",
       "      <td>2</td>\n",
       "      <td>1.340485</td>\n",
       "      <td>2.865332</td>\n",
       "      <td>8.165605</td>\n",
       "      <td>00:04</td>\n",
       "    </tr>\n",
       "    <tr>\n",
       "      <td>3</td>\n",
       "      <td>1.315231</td>\n",
       "      <td>2.870825</td>\n",
       "      <td>8.263307</td>\n",
       "      <td>00:04</td>\n",
       "    </tr>\n",
       "    <tr>\n",
       "      <td>4</td>\n",
       "      <td>1.297822</td>\n",
       "      <td>2.868782</td>\n",
       "      <td>8.319770</td>\n",
       "      <td>00:04</td>\n",
       "    </tr>\n",
       "    <tr>\n",
       "      <td>5</td>\n",
       "      <td>1.291416</td>\n",
       "      <td>2.868641</td>\n",
       "      <td>8.347960</td>\n",
       "      <td>00:04</td>\n",
       "    </tr>\n",
       "    <tr>\n",
       "      <td>6</td>\n",
       "      <td>1.269787</td>\n",
       "      <td>2.871994</td>\n",
       "      <td>8.321968</td>\n",
       "      <td>00:04</td>\n",
       "    </tr>\n",
       "    <tr>\n",
       "      <td>7</td>\n",
       "      <td>1.261426</td>\n",
       "      <td>2.875363</td>\n",
       "      <td>8.236278</td>\n",
       "      <td>00:04</td>\n",
       "    </tr>\n",
       "    <tr>\n",
       "      <td>8</td>\n",
       "      <td>1.256815</td>\n",
       "      <td>2.875414</td>\n",
       "      <td>8.276392</td>\n",
       "      <td>00:04</td>\n",
       "    </tr>\n",
       "    <tr>\n",
       "      <td>9</td>\n",
       "      <td>1.255656</td>\n",
       "      <td>2.875235</td>\n",
       "      <td>8.251624</td>\n",
       "      <td>00:04</td>\n",
       "    </tr>\n",
       "  </tbody>\n",
       "</table>"
      ],
      "text/plain": [
       "<IPython.core.display.HTML object>"
      ]
     },
     "metadata": {},
     "output_type": "display_data"
    }
   ],
   "source": [
    "learn.fit_flat_cos(10, 1e-5)"
   ]
  },
  {
   "cell_type": "code",
   "execution_count": 35,
   "id": "2667cc72-bbe9-4d60-b44d-d6d37771b1ef",
   "metadata": {
    "tags": []
   },
   "outputs": [
    {
     "data": {
      "application/vnd.jupyter.widget-view+json": {
       "model_id": "9141994ee7e74ce7b065a44676fe61e3",
       "version_major": 2,
       "version_minor": 0
      },
      "text/plain": [
       "  0%|          | 0/1471 [00:00<?, ?it/s]"
      ]
     },
     "metadata": {},
     "output_type": "display_data"
    },
    {
     "data": {
      "text/plain": [
       "8.325726159927434"
      ]
     },
     "execution_count": 35,
     "metadata": {},
     "output_type": "execute_result"
    }
   ],
   "source": [
    "translate_func = partial(\n",
    "    translate, model=student_model, tokenizer=tokenizer, src_lang=\"dyu_Latn\", tgt_lang=\"fra_Latn\"\n",
    ")\n",
    "calculate_bleu(\n",
    "    student_model, df_valid, translate_func, src_lang=\"dyu_Latn\", tgt_lang=\"fra_Latn\",\n",
    "    preproc_func=preproc\n",
    ")"
   ]
  },
  {
   "cell_type": "markdown",
   "id": "5000d74a-9631-405c-9c66-8061cd08e482",
   "metadata": {},
   "source": [
    "Look at a few translation examples:"
   ]
  },
  {
   "cell_type": "code",
   "execution_count": 36,
   "id": "207501e8-3597-44d3-9cd9-aee52705656c",
   "metadata": {
    "tags": []
   },
   "outputs": [
    {
     "name": "stdout",
     "output_type": "stream",
     "text": [
      "puɛn saba fɔlɔ\n"
     ]
    },
    {
     "data": {
      "text/plain": [
       "['trois points d’avance']"
      ]
     },
     "execution_count": 36,
     "metadata": {},
     "output_type": "execute_result"
    }
   ],
   "source": [
    "text = preproc(df_valid.iloc[1, 0])\n",
    "print(text)\n",
    "translate_func(text)"
   ]
  },
  {
   "cell_type": "markdown",
   "id": "0506f530-52f6-45e1-9307-15c75f4877f7",
   "metadata": {},
   "source": [
    "Convert the model to `bfloat16`:"
   ]
  },
  {
   "cell_type": "code",
   "execution_count": 37,
   "id": "94dd8c11-0632-4e65-8429-211f98f1a598",
   "metadata": {
    "tags": []
   },
   "outputs": [
    {
     "name": "stdout",
     "output_type": "stream",
     "text": [
      "Memory footprint: 0.01GB\n"
     ]
    }
   ],
   "source": [
    "student_model.bfloat16()\n",
    "print(f\"Memory footprint: {student_model.get_memory_footprint() / 1024**3 :.2f}GB\")"
   ]
  },
  {
   "cell_type": "code",
   "execution_count": 38,
   "id": "0db98d51-282e-4f32-a7b1-a6e6495c58ed",
   "metadata": {
    "tags": []
   },
   "outputs": [
    {
     "data": {
      "application/vnd.jupyter.widget-view+json": {
       "model_id": "037af30d9a2f4a7e9062acb8a477def8",
       "version_major": 2,
       "version_minor": 0
      },
      "text/plain": [
       "  0%|          | 0/1471 [00:00<?, ?it/s]"
      ]
     },
     "metadata": {},
     "output_type": "display_data"
    },
    {
     "data": {
      "text/plain": [
       "8.35281390947921"
      ]
     },
     "execution_count": 38,
     "metadata": {},
     "output_type": "execute_result"
    }
   ],
   "source": [
    "translate_func = partial(\n",
    "    translate, model=student_model, tokenizer=tokenizer, src_lang=\"dyu_Latn\", tgt_lang=\"fra_Latn\"\n",
    ")\n",
    "calculate_bleu(\n",
    "    student_model, df_valid, translate_func, src_lang=\"dyu_Latn\", tgt_lang=\"fra_Latn\",\n",
    "    preproc_func=preproc\n",
    ")"
   ]
  },
  {
   "cell_type": "code",
   "execution_count": 39,
   "id": "222e231a-3552-4af4-9407-9199b7def561",
   "metadata": {
    "tags": []
   },
   "outputs": [
    {
     "name": "stderr",
     "output_type": "stream",
     "text": [
      "Some non-default generation parameters are set in the model config. These should go into a GenerationConfig file (https://huggingface.co/docs/transformers/generation_strategies#save-a-custom-decoding-strategy-with-your-model) instead. This warning will be raised to an exception in v4.41.\n",
      "Non-default generation parameters: {'max_length': 200}\n"
     ]
    },
    {
     "data": {
      "text/plain": [
       "('saved_models/nllb-dyu-fr-distilled-final/tokenizer_config.json',\n",
       " 'saved_models/nllb-dyu-fr-distilled-final/special_tokens_map.json',\n",
       " 'saved_models/nllb-dyu-fr-distilled-final/sentencepiece.bpe.model',\n",
       " 'saved_models/nllb-dyu-fr-distilled-final/added_tokens.json')"
      ]
     },
     "execution_count": 39,
     "metadata": {},
     "output_type": "execute_result"
    }
   ],
   "source": [
    "MODEL_SAVE_PATH = 'saved_models/nllb-dyu-fr-distilled-final'\n",
    "student_model.save_pretrained(MODEL_SAVE_PATH)\n",
    "tokenizer.save_pretrained(MODEL_SAVE_PATH)"
   ]
  },
  {
   "cell_type": "markdown",
   "id": "0e34fac4-e5ce-45d4-9b72-f816c399c36a",
   "metadata": {},
   "source": [
    "**OPTIONAL** Reload the interim saved model also save it in bf16:"
   ]
  },
  {
   "cell_type": "code",
   "execution_count": 40,
   "id": "c2141027-0aef-4f07-9d95-fc71d3ed6769",
   "metadata": {
    "tags": []
   },
   "outputs": [
    {
     "name": "stdout",
     "output_type": "stream",
     "text": [
      "Memory footprint: 0.02GB\n"
     ]
    }
   ],
   "source": [
    "BASE_MODEL_ID = \"saved_models/nllb-dyu-fr-distilled\"\n",
    "tokenizer = NllbTokenizer.from_pretrained(BASE_MODEL_ID)\n",
    "student_model = AutoModelForSeq2SeqLM.from_pretrained(BASE_MODEL_ID, device_map=\"cuda\")\n",
    "print(f\"Memory footprint: {student_model.get_memory_footprint() / 1024**3 :.2f}GB\")"
   ]
  },
  {
   "cell_type": "code",
   "execution_count": 41,
   "id": "d0c5446b-f515-489c-9ec8-cb019ce7293d",
   "metadata": {
    "tags": []
   },
   "outputs": [
    {
     "data": {
      "application/vnd.jupyter.widget-view+json": {
       "model_id": "28c308ff94d4491a86eb05320f8e5aec",
       "version_major": 2,
       "version_minor": 0
      },
      "text/plain": [
       "  0%|          | 0/1471 [00:00<?, ?it/s]"
      ]
     },
     "metadata": {},
     "output_type": "display_data"
    },
    {
     "name": "stderr",
     "output_type": "stream",
     "text": [
      "2024-09-01 10:39:25.777375: E external/local_xla/xla/stream_executor/cuda/cuda_dnn.cc:9261] Unable to register cuDNN factory: Attempting to register factory for plugin cuDNN when one has already been registered\n",
      "2024-09-01 10:39:25.777449: E external/local_xla/xla/stream_executor/cuda/cuda_fft.cc:607] Unable to register cuFFT factory: Attempting to register factory for plugin cuFFT when one has already been registered\n",
      "2024-09-01 10:39:25.778772: E external/local_xla/xla/stream_executor/cuda/cuda_blas.cc:1515] Unable to register cuBLAS factory: Attempting to register factory for plugin cuBLAS when one has already been registered\n",
      "2024-09-01 10:39:25.785396: I tensorflow/core/platform/cpu_feature_guard.cc:182] This TensorFlow binary is optimized to use available CPU instructions in performance-critical operations.\n",
      "To enable the following instructions: AVX2 FMA, in other operations, rebuild TensorFlow with the appropriate compiler flags.\n",
      "2024-09-01 10:39:26.740359: W tensorflow/compiler/tf2tensorrt/utils/py_utils.cc:38] TF-TRT Warning: Could not find TensorRT\n"
     ]
    },
    {
     "data": {
      "text/plain": [
       "8.32036716982674"
      ]
     },
     "execution_count": 41,
     "metadata": {},
     "output_type": "execute_result"
    }
   ],
   "source": [
    "translate_func = partial(\n",
    "    translate, model=student_model, tokenizer=tokenizer, src_lang=\"dyu_Latn\", tgt_lang=\"fra_Latn\"\n",
    ")\n",
    "calculate_bleu(\n",
    "    student_model, df_valid, translate_func, src_lang=\"dyu_Latn\", tgt_lang=\"fra_Latn\",\n",
    "    preproc_func=preproc\n",
    ")"
   ]
  },
  {
   "cell_type": "code",
   "execution_count": 42,
   "id": "48d692b8-76f7-4120-be87-42eb854d436b",
   "metadata": {
    "tags": []
   },
   "outputs": [
    {
     "name": "stdout",
     "output_type": "stream",
     "text": [
      "puɛn saba fɔlɔ\n"
     ]
    },
    {
     "data": {
      "text/plain": [
       "[\"trois points d'avance\"]"
      ]
     },
     "execution_count": 42,
     "metadata": {},
     "output_type": "execute_result"
    }
   ],
   "source": [
    "text = preproc(df_valid.iloc[1, 0])\n",
    "print(text)\n",
    "translate_func(text)"
   ]
  },
  {
   "cell_type": "code",
   "execution_count": 43,
   "id": "08d82dd1-1370-4acd-a342-2f7cdb73cb92",
   "metadata": {
    "tags": []
   },
   "outputs": [
    {
     "name": "stdout",
     "output_type": "stream",
     "text": [
      "Memory footprint: 0.01GB\n"
     ]
    }
   ],
   "source": [
    "student_model.bfloat16()\n",
    "print(f\"Memory footprint: {student_model.get_memory_footprint() / 1024**3 :.2f}GB\")"
   ]
  },
  {
   "cell_type": "code",
   "execution_count": 44,
   "id": "8b71fbf1-eed0-4703-8243-b27a2d728fde",
   "metadata": {
    "tags": []
   },
   "outputs": [
    {
     "data": {
      "application/vnd.jupyter.widget-view+json": {
       "model_id": "db4b943165cb4777a9a83892269db2bf",
       "version_major": 2,
       "version_minor": 0
      },
      "text/plain": [
       "  0%|          | 0/1471 [00:00<?, ?it/s]"
      ]
     },
     "metadata": {},
     "output_type": "display_data"
    },
    {
     "data": {
      "text/plain": [
       "8.259724223980204"
      ]
     },
     "execution_count": 44,
     "metadata": {},
     "output_type": "execute_result"
    }
   ],
   "source": [
    "translate_func = partial(\n",
    "    translate, model=student_model, tokenizer=tokenizer, src_lang=\"dyu_Latn\", tgt_lang=\"fra_Latn\"\n",
    ")\n",
    "calculate_bleu(\n",
    "    student_model, df_valid, translate_func, src_lang=\"dyu_Latn\", tgt_lang=\"fra_Latn\",\n",
    "    preproc_func=preproc\n",
    ")"
   ]
  },
  {
   "cell_type": "code",
   "execution_count": 45,
   "id": "6bebbbf2-96c2-4ff3-8b80-6d075669a6ff",
   "metadata": {
    "tags": []
   },
   "outputs": [
    {
     "name": "stdout",
     "output_type": "stream",
     "text": [
      "puɛn saba fɔlɔ\n"
     ]
    },
    {
     "data": {
      "text/plain": [
       "[\"trois points d'avance\"]"
      ]
     },
     "execution_count": 45,
     "metadata": {},
     "output_type": "execute_result"
    }
   ],
   "source": [
    "text = preproc(df_valid.iloc[1, 0])\n",
    "print(text)\n",
    "translate_func(text)"
   ]
  },
  {
   "cell_type": "code",
   "execution_count": 46,
   "id": "b3724ece-4092-47d3-b108-2002f256aeae",
   "metadata": {
    "tags": []
   },
   "outputs": [
    {
     "name": "stderr",
     "output_type": "stream",
     "text": [
      "Some non-default generation parameters are set in the model config. These should go into a GenerationConfig file (https://huggingface.co/docs/transformers/generation_strategies#save-a-custom-decoding-strategy-with-your-model) instead. This warning will be raised to an exception in v4.41.\n",
      "Non-default generation parameters: {'max_length': 200}\n"
     ]
    },
    {
     "data": {
      "text/plain": [
       "('saved_models/nllb-dyu-fr-distilled-bf16/tokenizer_config.json',\n",
       " 'saved_models/nllb-dyu-fr-distilled-bf16/special_tokens_map.json',\n",
       " 'saved_models/nllb-dyu-fr-distilled-bf16/sentencepiece.bpe.model',\n",
       " 'saved_models/nllb-dyu-fr-distilled-bf16/added_tokens.json')"
      ]
     },
     "execution_count": 46,
     "metadata": {},
     "output_type": "execute_result"
    }
   ],
   "source": [
    "MODEL_SAVE_PATH = 'saved_models/nllb-dyu-fr-distilled-bf16'\n",
    "student_model.save_pretrained(MODEL_SAVE_PATH)\n",
    "tokenizer.save_pretrained(MODEL_SAVE_PATH)"
   ]
  },
  {
   "cell_type": "code",
   "execution_count": null,
   "id": "1ae2934a-1906-4ff5-98b7-39a931d055fe",
   "metadata": {},
   "outputs": [],
   "source": []
  }
 ],
 "metadata": {
  "kernelspec": {
   "display_name": "Python 3 (ipykernel)",
   "language": "python",
   "name": "python3"
  },
  "language_info": {
   "codemirror_mode": {
    "name": "ipython",
    "version": 3
   },
   "file_extension": ".py",
   "mimetype": "text/x-python",
   "name": "python",
   "nbconvert_exporter": "python",
   "pygments_lexer": "ipython3",
   "version": "3.11.7"
  }
 },
 "nbformat": 4,
 "nbformat_minor": 5
}
