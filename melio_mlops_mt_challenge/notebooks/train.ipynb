{
 "cells": [
  {
   "cell_type": "markdown",
   "id": "55068fa2-402e-4231-9e32-c7ccab4a8b90",
   "metadata": {},
   "source": [
    "# Train a small Dyula to French model from scratch\n",
    "\n",
    "This Notebook uses back-translated data for training. Make sure the Notebooks to generated back-translated data are run first."
   ]
  },
  {
   "cell_type": "markdown",
   "id": "af32c3f9-529b-461c-acc7-50401c99db7b",
   "metadata": {},
   "source": [
    "## Setup environment"
   ]
  },
  {
   "cell_type": "markdown",
   "id": "748451a4-2a14-421b-89f4-0febe02ba7b7",
   "metadata": {},
   "source": [
    "Restart the kernel after you have installed packages with `pip install` in the Notebook cell below."
   ]
  },
  {
   "cell_type": "code",
   "execution_count": 1,
   "id": "7faa8da4-db32-4539-9435-335df82c808a",
   "metadata": {
    "tags": []
   },
   "outputs": [
    {
     "name": "stdout",
     "output_type": "stream",
     "text": [
      "\u001b[31mERROR: pip's dependency resolver does not currently take into account all the packages that are installed. This behaviour is the source of the following dependency conflicts.\n",
      "gradient 2.0.6 requires attrs<=19, but you have attrs 23.1.0 which is incompatible.\u001b[0m\u001b[31m\n",
      "\u001b[0m\u001b[33mWARNING: Running pip as the 'root' user can result in broken permissions and conflicting behaviour with the system package manager. It is recommended to use a virtual environment instead: https://pip.pypa.io/warnings/venv\u001b[0m\u001b[33m\n",
      "\u001b[0m"
     ]
    }
   ],
   "source": [
    "!pip install -q -U sentencepiece transformers datasets sacrebleu lxml sentence-transformers accelerate fastai"
   ]
  },
  {
   "cell_type": "code",
   "execution_count": 2,
   "id": "ddb08816-475e-494d-8434-2ee8920eea2a",
   "metadata": {
    "tags": []
   },
   "outputs": [],
   "source": [
    "BASE_MODEL_ID = \"facebook/nllb-200-distilled-600M\"\n",
    "TOKENIZER_ID = \"tokenizers/tokenizer_2k\"\n",
    "RANDOM_SEED = 27  # Set `RANDOM_SEED = None` to run without a seed"
   ]
  },
  {
   "cell_type": "code",
   "execution_count": 3,
   "id": "da92a0f0-9bec-47d5-b912-254a721754be",
   "metadata": {
    "tags": []
   },
   "outputs": [],
   "source": [
    "from functools import partial\n",
    "from transformers import NllbTokenizer\n",
    "from data import (\n",
    "    load_from_json,\n",
    "    TranslationDataset,\n",
    "    create_dataloaders\n",
    ")\n",
    "from modeling import (\n",
    "    instantiate_small_model,\n",
    "    create_learner,\n",
    "    prune\n",
    ")\n",
    "from utils import preproc, set_seed\n",
    "from translation import translate\n",
    "from evaluation import calculate_bleu"
   ]
  },
  {
   "cell_type": "code",
   "execution_count": 4,
   "id": "a46a6fc1-b12d-47ff-9e1f-a214bbd9c183",
   "metadata": {
    "tags": []
   },
   "outputs": [],
   "source": [
    "if RANDOM_SEED is not None:\n",
    "    set_seed(RANDOM_SEED, reproducible=True)"
   ]
  },
  {
   "cell_type": "markdown",
   "id": "95cfac1d-a088-47ce-a0b4-57b88ab274e8",
   "metadata": {},
   "source": [
    "## Load training data"
   ]
  },
  {
   "cell_type": "code",
   "execution_count": 5,
   "id": "72541e40-e403-4f71-a13d-4f713305c7f0",
   "metadata": {
    "tags": []
   },
   "outputs": [
    {
     "data": {
      "application/vnd.jupyter.widget-view+json": {
       "model_id": "ded1404f9f1f43d48962cdb03189e825",
       "version_major": 2,
       "version_minor": 0
      },
      "text/plain": [
       "Generating train split: 0 examples [00:00, ? examples/s]"
      ]
     },
     "metadata": {},
     "output_type": "display_data"
    },
    {
     "data": {
      "application/vnd.jupyter.widget-view+json": {
       "model_id": "48f587519eca4c46827d4d6bda6d029b",
       "version_major": 2,
       "version_minor": 0
      },
      "text/plain": [
       "Generating validation split: 0 examples [00:00, ? examples/s]"
      ]
     },
     "metadata": {},
     "output_type": "display_data"
    },
    {
     "data": {
      "application/vnd.jupyter.widget-view+json": {
       "model_id": "fd7514cf39694281bccb8e0c8e84bc5e",
       "version_major": 2,
       "version_minor": 0
      },
      "text/plain": [
       "Generating test split: 0 examples [00:00, ? examples/s]"
      ]
     },
     "metadata": {},
     "output_type": "display_data"
    },
    {
     "name": "stdout",
     "output_type": "stream",
     "text": [
      "(98550, 3)\n"
     ]
    },
    {
     "data": {
      "text/html": [
       "<div>\n",
       "<style scoped>\n",
       "    .dataframe tbody tr th:only-of-type {\n",
       "        vertical-align: middle;\n",
       "    }\n",
       "\n",
       "    .dataframe tbody tr th {\n",
       "        vertical-align: top;\n",
       "    }\n",
       "\n",
       "    .dataframe thead th {\n",
       "        text-align: right;\n",
       "    }\n",
       "</style>\n",
       "<table border=\"1\" class=\"dataframe\">\n",
       "  <thead>\n",
       "    <tr style=\"text-align: right;\">\n",
       "      <th></th>\n",
       "      <th>dyu</th>\n",
       "      <th>fr</th>\n",
       "      <th>split</th>\n",
       "    </tr>\n",
       "  </thead>\n",
       "  <tbody>\n",
       "    <tr>\n",
       "      <th>0</th>\n",
       "      <td>A bi ji min na</td>\n",
       "      <td>Il boit de l’eau.</td>\n",
       "      <td>train</td>\n",
       "    </tr>\n",
       "    <tr>\n",
       "      <th>1</th>\n",
       "      <td>A le dalakolontɛ lon bɛ.</td>\n",
       "      <td>Il se plaint toujours.</td>\n",
       "      <td>train</td>\n",
       "    </tr>\n",
       "    <tr>\n",
       "      <th>2</th>\n",
       "      <td>Mun? Fɛn dɔ.</td>\n",
       "      <td>Quoi ? Quelque chose.</td>\n",
       "      <td>train</td>\n",
       "    </tr>\n",
       "    <tr>\n",
       "      <th>3</th>\n",
       "      <td>O bɛ bi bɔra fo Gubeta.</td>\n",
       "      <td>Tous sortent excepté Gubetta.</td>\n",
       "      <td>train</td>\n",
       "    </tr>\n",
       "    <tr>\n",
       "      <th>4</th>\n",
       "      <td>A ale lo bi da bugɔ la!</td>\n",
       "      <td>Ah ! c’est lui… il sonne…</td>\n",
       "      <td>train</td>\n",
       "    </tr>\n",
       "  </tbody>\n",
       "</table>\n",
       "</div>"
      ],
      "text/plain": [
       "                        dyu                             fr  split\n",
       "0            A bi ji min na              Il boit de l’eau.  train\n",
       "1  A le dalakolontɛ lon bɛ.         Il se plaint toujours.  train\n",
       "2              Mun? Fɛn dɔ.          Quoi ? Quelque chose.  train\n",
       "3   O bɛ bi bɔra fo Gubeta.  Tous sortent excepté Gubetta.  train\n",
       "4   A ale lo bi da bugɔ la!      Ah ! c’est lui… il sonne…  train"
      ]
     },
     "execution_count": 5,
     "metadata": {},
     "output_type": "execute_result"
    }
   ],
   "source": [
    "df = load_from_json(\n",
    "    train_files=[\n",
    "        \"data/dataset_train.json\",\n",
    "        \"data/dataset_bt_train.json\",\n",
    "        \"data/dataset_bt_test.json\",\n",
    "        # \"data/dataset_validation.json\", \"data/dataset_bt_validation.json\"\n",
    "    ],\n",
    "    valid_files=\"data/dataset_validation.json\",\n",
    "    test_files=\"data/dataset_test.json\",\n",
    "    return_format=\"df\"\n",
    ")\n",
    "print(df.shape)\n",
    "df.head()"
   ]
  },
  {
   "cell_type": "code",
   "execution_count": 6,
   "id": "cb33c33f-a74b-43a5-ac3a-8fc1a7bd233b",
   "metadata": {
    "tags": []
   },
   "outputs": [],
   "source": [
    "df_train = df[df[\"split\"] == \"train\"].copy()\n",
    "df_valid = df[df[\"split\"]== \"validation\"].copy()\n",
    "df_test = df[df[\"split\"]== \"test\"].copy()\n",
    "assert len(df_train) + len(df_valid) + len(df_test) == len(df)"
   ]
  },
  {
   "cell_type": "markdown",
   "id": "f7491455-f71d-42b8-910c-86b0dc52e6b9",
   "metadata": {},
   "source": [
    "## Instantiate a small Nllb-200 model\n",
    " - Vocabulary of 2000 tokens\n",
    " - 3 encoder and decoder layers\n",
    " - dimensions of linear layers 1/4 of the size of the Nllb-200-600M model"
   ]
  },
  {
   "cell_type": "code",
   "execution_count": 7,
   "id": "665509a9-3fc5-4118-a175-747a42916b6f",
   "metadata": {
    "tags": []
   },
   "outputs": [
    {
     "data": {
      "application/vnd.jupyter.widget-view+json": {
       "model_id": "2e27397427894391982eb616bbf72839",
       "version_major": 2,
       "version_minor": 0
      },
      "text/plain": [
       "config.json:   0%|          | 0.00/846 [00:00<?, ?B/s]"
      ]
     },
     "metadata": {},
     "output_type": "display_data"
    },
    {
     "data": {
      "application/vnd.jupyter.widget-view+json": {
       "model_id": "80626dbc16f84942bf7c00b5558353ab",
       "version_major": 2,
       "version_minor": 0
      },
      "text/plain": [
       "pytorch_model.bin:   0%|          | 0.00/2.46G [00:00<?, ?B/s]"
      ]
     },
     "metadata": {},
     "output_type": "display_data"
    },
    {
     "name": "stderr",
     "output_type": "stream",
     "text": [
      "/usr/local/lib/python3.11/dist-packages/torch/_utils.py:831: UserWarning: TypedStorage is deprecated. It will be removed in the future and UntypedStorage will be the only storage class. This should only matter to you if you are using storages directly.  To access UntypedStorage directly, use tensor.untyped_storage() instead of tensor.storage()\n",
      "  return self.fget.__get__(instance, owner)()\n"
     ]
    },
    {
     "data": {
      "application/vnd.jupyter.widget-view+json": {
       "model_id": "36c1a3516ec04a01ac6d17640b627faa",
       "version_major": 2,
       "version_minor": 0
      },
      "text/plain": [
       "generation_config.json:   0%|          | 0.00/189 [00:00<?, ?B/s]"
      ]
     },
     "metadata": {},
     "output_type": "display_data"
    },
    {
     "name": "stdout",
     "output_type": "stream",
     "text": [
      "Memory footprint: 0.02GB\n"
     ]
    }
   ],
   "source": [
    "tokenizer = NllbTokenizer.from_pretrained(TOKENIZER_ID)\n",
    "model = instantiate_small_model(\n",
    "    BASE_MODEL_ID, dim_factor=4, layer_factor=4, vocab_size=tokenizer.vocab_size,\n",
    "    encoder_ffn_dim=None, encoder_layers=None, decoder_ffn_dim=None, decoder_layers=None,\n",
    "    num_hidden_layers=None, d_model=None, max_position_embeddings=None\n",
    ")"
   ]
  },
  {
   "cell_type": "markdown",
   "id": "a58c1582-9c7f-41c5-afb4-a4ec63aa740a",
   "metadata": {},
   "source": [
    "## Create dataloaders"
   ]
  },
  {
   "cell_type": "code",
   "execution_count": 8,
   "id": "9821382d-e0e4-437c-b871-915e99370a31",
   "metadata": {
    "tags": []
   },
   "outputs": [],
   "source": [
    "dls = create_dataloaders(\n",
    "    df_train[[\"dyu\", \"fr\"]], df_valid[[\"dyu\", \"fr\"]], tokenizer, bs=128,\n",
    "    src_lang=\"dyu_Latn\", tgt_lang=\"fra_Latn\", preproc_func=preproc,\n",
    "    max_length=128\n",
    ")"
   ]
  },
  {
   "cell_type": "markdown",
   "id": "94a62a38-5ee9-45b6-acb6-bcde411b7222",
   "metadata": {},
   "source": [
    "## Create learner and train"
   ]
  },
  {
   "cell_type": "code",
   "execution_count": 9,
   "id": "ec86cee3-daae-400e-bf75-5e288880e038",
   "metadata": {
    "tags": []
   },
   "outputs": [],
   "source": [
    "learn = create_learner(dls, model, tokenizer, src_lang=\"dyu_Latn\", tgt_lang=\"fra_Latn\")#, wd=0.01)"
   ]
  },
  {
   "cell_type": "markdown",
   "id": "41a217bf-853b-4697-af7a-4ac15fbbaf64",
   "metadata": {},
   "source": [
    "We use the fastai learning rate finding to help with picking a learning rate"
   ]
  },
  {
   "cell_type": "code",
   "execution_count": 10,
   "id": "5912816e-0b0f-446f-bbf8-2c25450a7378",
   "metadata": {
    "tags": []
   },
   "outputs": [
    {
     "data": {
      "text/html": [
       "\n",
       "<style>\n",
       "    /* Turns off some styling */\n",
       "    progress {\n",
       "        /* gets rid of default border in Firefox and Opera. */\n",
       "        border: none;\n",
       "        /* Needs to be in here for Safari polyfill so background images work as expected. */\n",
       "        background-size: auto;\n",
       "    }\n",
       "    progress:not([value]), progress:not([value])::-webkit-progress-bar {\n",
       "        background: repeating-linear-gradient(45deg, #7e7e7e, #7e7e7e 10px, #5c5c5c 10px, #5c5c5c 20px);\n",
       "    }\n",
       "    .progress-bar-interrupted, .progress-bar-interrupted::-webkit-progress-bar {\n",
       "        background: #F44336;\n",
       "    }\n",
       "</style>\n"
      ],
      "text/plain": [
       "<IPython.core.display.HTML object>"
      ]
     },
     "metadata": {},
     "output_type": "display_data"
    },
    {
     "data": {
      "text/html": [],
      "text/plain": [
       "<IPython.core.display.HTML object>"
      ]
     },
     "metadata": {},
     "output_type": "display_data"
    },
    {
     "data": {
      "text/plain": [
       "SuggestedLRs(valley=0.0003981071640737355)"
      ]
     },
     "execution_count": 10,
     "metadata": {},
     "output_type": "execute_result"
    },
    {
     "data": {
      "image/png": "[encoded data removed]",
      "text/plain": [
       "<Figure size 640x480 with 1 Axes>"
      ]
     },
     "metadata": {},
     "output_type": "display_data"
    }
   ],
   "source": [
    "learn.lr_find()"
   ]
  },
  {
   "cell_type": "code",
   "execution_count": 11,
   "id": "53d33eab-3ae8-4984-872d-48e2701ad89c",
   "metadata": {
    "tags": []
   },
   "outputs": [
    {
     "data": {
      "text/html": [
       "\n",
       "<style>\n",
       "    /* Turns off some styling */\n",
       "    progress {\n",
       "        /* gets rid of default border in Firefox and Opera. */\n",
       "        border: none;\n",
       "        /* Needs to be in here for Safari polyfill so background images work as expected. */\n",
       "        background-size: auto;\n",
       "    }\n",
       "    progress:not([value]), progress:not([value])::-webkit-progress-bar {\n",
       "        background: repeating-linear-gradient(45deg, #7e7e7e, #7e7e7e 10px, #5c5c5c 10px, #5c5c5c 20px);\n",
       "    }\n",
       "    .progress-bar-interrupted, .progress-bar-interrupted::-webkit-progress-bar {\n",
       "        background: #F44336;\n",
       "    }\n",
       "</style>\n"
      ],
      "text/plain": [
       "<IPython.core.display.HTML object>"
      ]
     },
     "metadata": {},
     "output_type": "display_data"
    },
    {
     "data": {
      "text/html": [
       "<table border=\"1\" class=\"dataframe\">\n",
       "  <thead>\n",
       "    <tr style=\"text-align: left;\">\n",
       "      <th>epoch</th>\n",
       "      <th>train_loss</th>\n",
       "      <th>valid_loss</th>\n",
       "      <th>BLEU</th>\n",
       "      <th>time</th>\n",
       "    </tr>\n",
       "  </thead>\n",
       "  <tbody>\n",
       "    <tr>\n",
       "      <td>0</td>\n",
       "      <td>3.159922</td>\n",
       "      <td>3.617712</td>\n",
       "      <td>2.047111</td>\n",
       "      <td>00:35</td>\n",
       "    </tr>\n",
       "    <tr>\n",
       "      <td>1</td>\n",
       "      <td>2.302552</td>\n",
       "      <td>3.319259</td>\n",
       "      <td>3.876464</td>\n",
       "      <td>00:35</td>\n",
       "    </tr>\n",
       "    <tr>\n",
       "      <td>2</td>\n",
       "      <td>1.948658</td>\n",
       "      <td>3.225243</td>\n",
       "      <td>4.970436</td>\n",
       "      <td>00:35</td>\n",
       "    </tr>\n",
       "    <tr>\n",
       "      <td>3</td>\n",
       "      <td>1.849716</td>\n",
       "      <td>3.362791</td>\n",
       "      <td>4.596809</td>\n",
       "      <td>00:36</td>\n",
       "    </tr>\n",
       "    <tr>\n",
       "      <td>4</td>\n",
       "      <td>1.510322</td>\n",
       "      <td>3.327863</td>\n",
       "      <td>4.970419</td>\n",
       "      <td>00:35</td>\n",
       "    </tr>\n",
       "    <tr>\n",
       "      <td>5</td>\n",
       "      <td>1.321977</td>\n",
       "      <td>3.285486</td>\n",
       "      <td>5.812019</td>\n",
       "      <td>00:36</td>\n",
       "    </tr>\n",
       "    <tr>\n",
       "      <td>6</td>\n",
       "      <td>1.257548</td>\n",
       "      <td>3.280746</td>\n",
       "      <td>5.639031</td>\n",
       "      <td>00:36</td>\n",
       "    </tr>\n",
       "    <tr>\n",
       "      <td>7</td>\n",
       "      <td>1.457664</td>\n",
       "      <td>3.437879</td>\n",
       "      <td>5.083938</td>\n",
       "      <td>00:36</td>\n",
       "    </tr>\n",
       "    <tr>\n",
       "      <td>8</td>\n",
       "      <td>1.323481</td>\n",
       "      <td>3.434513</td>\n",
       "      <td>5.527645</td>\n",
       "      <td>00:36</td>\n",
       "    </tr>\n",
       "    <tr>\n",
       "      <td>9</td>\n",
       "      <td>1.199401</td>\n",
       "      <td>3.439765</td>\n",
       "      <td>5.590034</td>\n",
       "      <td>00:37</td>\n",
       "    </tr>\n",
       "    <tr>\n",
       "      <td>10</td>\n",
       "      <td>1.069559</td>\n",
       "      <td>3.467661</td>\n",
       "      <td>5.704712</td>\n",
       "      <td>00:36</td>\n",
       "    </tr>\n",
       "    <tr>\n",
       "      <td>11</td>\n",
       "      <td>0.975214</td>\n",
       "      <td>3.468264</td>\n",
       "      <td>6.110754</td>\n",
       "      <td>00:36</td>\n",
       "    </tr>\n",
       "    <tr>\n",
       "      <td>12</td>\n",
       "      <td>0.896601</td>\n",
       "      <td>3.468060</td>\n",
       "      <td>6.197792</td>\n",
       "      <td>00:36</td>\n",
       "    </tr>\n",
       "    <tr>\n",
       "      <td>13</td>\n",
       "      <td>0.843117</td>\n",
       "      <td>3.465649</td>\n",
       "      <td>6.132948</td>\n",
       "      <td>00:36</td>\n",
       "    </tr>\n",
       "    <tr>\n",
       "      <td>14</td>\n",
       "      <td>0.845384</td>\n",
       "      <td>3.461412</td>\n",
       "      <td>6.283310</td>\n",
       "      <td>00:37</td>\n",
       "    </tr>\n",
       "    <tr>\n",
       "      <td>15</td>\n",
       "      <td>1.132450</td>\n",
       "      <td>3.581088</td>\n",
       "      <td>4.975993</td>\n",
       "      <td>00:37</td>\n",
       "    </tr>\n",
       "    <tr>\n",
       "      <td>16</td>\n",
       "      <td>1.106456</td>\n",
       "      <td>3.551569</td>\n",
       "      <td>5.645039</td>\n",
       "      <td>00:36</td>\n",
       "    </tr>\n",
       "    <tr>\n",
       "      <td>17</td>\n",
       "      <td>1.045214</td>\n",
       "      <td>3.574284</td>\n",
       "      <td>5.838527</td>\n",
       "      <td>00:36</td>\n",
       "    </tr>\n",
       "    <tr>\n",
       "      <td>18</td>\n",
       "      <td>0.999832</td>\n",
       "      <td>3.595543</td>\n",
       "      <td>5.522714</td>\n",
       "      <td>00:36</td>\n",
       "    </tr>\n",
       "    <tr>\n",
       "      <td>19</td>\n",
       "      <td>0.949525</td>\n",
       "      <td>3.615679</td>\n",
       "      <td>5.493284</td>\n",
       "      <td>00:37</td>\n",
       "    </tr>\n",
       "    <tr>\n",
       "      <td>20</td>\n",
       "      <td>0.888886</td>\n",
       "      <td>3.624319</td>\n",
       "      <td>5.478791</td>\n",
       "      <td>00:36</td>\n",
       "    </tr>\n",
       "    <tr>\n",
       "      <td>21</td>\n",
       "      <td>0.833465</td>\n",
       "      <td>3.659717</td>\n",
       "      <td>5.565246</td>\n",
       "      <td>00:37</td>\n",
       "    </tr>\n",
       "    <tr>\n",
       "      <td>22</td>\n",
       "      <td>0.785342</td>\n",
       "      <td>3.683649</td>\n",
       "      <td>5.887576</td>\n",
       "      <td>00:37</td>\n",
       "    </tr>\n",
       "    <tr>\n",
       "      <td>23</td>\n",
       "      <td>0.724619</td>\n",
       "      <td>3.696676</td>\n",
       "      <td>5.860060</td>\n",
       "      <td>00:37</td>\n",
       "    </tr>\n",
       "    <tr>\n",
       "      <td>24</td>\n",
       "      <td>0.692749</td>\n",
       "      <td>3.715963</td>\n",
       "      <td>6.294854</td>\n",
       "      <td>00:37</td>\n",
       "    </tr>\n",
       "    <tr>\n",
       "      <td>25</td>\n",
       "      <td>0.658961</td>\n",
       "      <td>3.732174</td>\n",
       "      <td>5.897069</td>\n",
       "      <td>00:37</td>\n",
       "    </tr>\n",
       "    <tr>\n",
       "      <td>26</td>\n",
       "      <td>0.622063</td>\n",
       "      <td>3.749599</td>\n",
       "      <td>5.784756</td>\n",
       "      <td>00:37</td>\n",
       "    </tr>\n",
       "    <tr>\n",
       "      <td>27</td>\n",
       "      <td>0.591746</td>\n",
       "      <td>3.765232</td>\n",
       "      <td>6.275636</td>\n",
       "      <td>00:37</td>\n",
       "    </tr>\n",
       "    <tr>\n",
       "      <td>28</td>\n",
       "      <td>0.590619</td>\n",
       "      <td>3.765419</td>\n",
       "      <td>5.926003</td>\n",
       "      <td>00:36</td>\n",
       "    </tr>\n",
       "    <tr>\n",
       "      <td>29</td>\n",
       "      <td>0.579343</td>\n",
       "      <td>3.769421</td>\n",
       "      <td>6.144631</td>\n",
       "      <td>00:37</td>\n",
       "    </tr>\n",
       "    <tr>\n",
       "      <td>30</td>\n",
       "      <td>0.573610</td>\n",
       "      <td>3.768354</td>\n",
       "      <td>6.107641</td>\n",
       "      <td>00:37</td>\n",
       "    </tr>\n",
       "  </tbody>\n",
       "</table>"
      ],
      "text/plain": [
       "<IPython.core.display.HTML object>"
      ]
     },
     "metadata": {},
     "output_type": "display_data"
    }
   ],
   "source": [
    "learn.fit_sgdr(5, 1, cycle_mult=2, lr_max=1e-3)"
   ]
  },
  {
   "cell_type": "markdown",
   "id": "a46cffe4-0407-41c9-846b-805f8e10eb47",
   "metadata": {},
   "source": [
    "Calculate validation BLEU:"
   ]
  },
  {
   "cell_type": "code",
   "execution_count": 12,
   "id": "c06dfd59-9901-46ec-9606-430b2108c23b",
   "metadata": {
    "tags": []
   },
   "outputs": [
    {
     "data": {
      "application/vnd.jupyter.widget-view+json": {
       "model_id": "a9d2e24abe1f45fe9c498beb437dfe6f",
       "version_major": 2,
       "version_minor": 0
      },
      "text/plain": [
       "  0%|          | 0/1471 [00:00<?, ?it/s]"
      ]
     },
     "metadata": {},
     "output_type": "display_data"
    },
    {
     "data": {
      "text/plain": [
       "6.159719610748194"
      ]
     },
     "execution_count": 12,
     "metadata": {},
     "output_type": "execute_result"
    }
   ],
   "source": [
    "translate_func = partial(\n",
    "    translate, model=model, tokenizer=tokenizer, src_lang=\"dyu_Latn\", tgt_lang=\"fra_Latn\"\n",
    ")\n",
    "calculate_bleu(\n",
    "    model, df_valid, translate_func, src_lang=\"dyu_Latn\", tgt_lang=\"fra_Latn\",\n",
    "    preproc_func=preproc\n",
    ")"
   ]
  },
  {
   "cell_type": "code",
   "execution_count": 13,
   "id": "316f4182-323e-442a-bd86-2d6ffa3c3676",
   "metadata": {
    "tags": []
   },
   "outputs": [
    {
     "name": "stdout",
     "output_type": "stream",
     "text": [
      "[2024-08-30 13:34:21,005] [INFO] [real_accelerator.py:158:get_accelerator] Setting ds_accelerator to cuda (auto detect)\n"
     ]
    },
    {
     "name": "stderr",
     "output_type": "stream",
     "text": [
      "Some non-default generation parameters are set in the model config. These should go into a GenerationConfig file (https://huggingface.co/docs/transformers/generation_strategies#save-a-custom-decoding-strategy-with-your-model) instead. This warning will be raised to an exception in v4.41.\n",
      "Non-default generation parameters: {'max_length': 200}\n"
     ]
    }
   ],
   "source": [
    "MODEL_SAVE_PATH = './tmp'\n",
    "model.save_pretrained(MODEL_SAVE_PATH)\n",
    "tokenizer.save_pretrained(MODEL_SAVE_PATH)"
   ]
  },
  {
   "cell_type": "markdown",
   "id": "1d3f3530-e723-434a-a280-d5f29a5eddc5",
   "metadata": {},
   "source": [
    "## Fine-tune the model further on the original training data\n",
    "(i.e., not on the backtranslated data)"
   ]
  },
  {
   "cell_type": "code",
   "execution_count": 15,
   "id": "2ad81c75-8631-4bc5-bc37-7ee57cd2bf8b",
   "metadata": {
    "tags": []
   },
   "outputs": [],
   "source": [
    "df = load_from_json(\n",
    "    train_files=\"data/dataset_train.json\",\n",
    "    valid_files=\"data/dataset_validation.json\",\n",
    "    test_files=\"data/dataset_test.json\",\n",
    "    return_format=\"df\"\n",
    ")\n",
    "df_train = df[df[\"split\"] == \"train\"].copy()\n",
    "df_valid = df[df[\"split\"]== \"validation\"].copy()\n",
    "df_test = df[df[\"split\"]== \"test\"].copy()\n",
    "assert len(df_train) + len(df_valid) + len(df_test) == len(df)"
   ]
  },
  {
   "cell_type": "code",
   "execution_count": 16,
   "id": "bd918c4b-4809-4856-943a-a7cc8f15efba",
   "metadata": {
    "tags": []
   },
   "outputs": [],
   "source": [
    "dls = create_dataloaders(\n",
    "    df_train[[\"dyu\", \"fr\"]], df_valid[[\"dyu\", \"fr\"]], tokenizer, bs=256,\n",
    "    src_lang=\"dyu_Latn\", tgt_lang=\"fra_Latn\", preproc_func=preproc,\n",
    "    max_length=128\n",
    ")\n",
    "learn = create_learner(dls, model, tokenizer, src_lang=\"dyu_Latn\", tgt_lang=\"fra_Latn\")"
   ]
  },
  {
   "cell_type": "code",
   "execution_count": 17,
   "id": "0119adb3-b55b-45d8-a0c9-c7ae2bf6885c",
   "metadata": {
    "tags": []
   },
   "outputs": [
    {
     "data": {
      "text/html": [
       "\n",
       "<style>\n",
       "    /* Turns off some styling */\n",
       "    progress {\n",
       "        /* gets rid of default border in Firefox and Opera. */\n",
       "        border: none;\n",
       "        /* Needs to be in here for Safari polyfill so background images work as expected. */\n",
       "        background-size: auto;\n",
       "    }\n",
       "    progress:not([value]), progress:not([value])::-webkit-progress-bar {\n",
       "        background: repeating-linear-gradient(45deg, #7e7e7e, #7e7e7e 10px, #5c5c5c 10px, #5c5c5c 20px);\n",
       "    }\n",
       "    .progress-bar-interrupted, .progress-bar-interrupted::-webkit-progress-bar {\n",
       "        background: #F44336;\n",
       "    }\n",
       "</style>\n"
      ],
      "text/plain": [
       "<IPython.core.display.HTML object>"
      ]
     },
     "metadata": {},
     "output_type": "display_data"
    },
    {
     "data": {
      "text/html": [],
      "text/plain": [
       "<IPython.core.display.HTML object>"
      ]
     },
     "metadata": {},
     "output_type": "display_data"
    },
    {
     "data": {
      "text/plain": [
       "SuggestedLRs(valley=0.0003311311302240938)"
      ]
     },
     "execution_count": 17,
     "metadata": {},
     "output_type": "execute_result"
    },
    {
     "data": {
      "image/png": "[encoded data removed]",
      "text/plain": [
       "<Figure size 640x480 with 1 Axes>"
      ]
     },
     "metadata": {},
     "output_type": "display_data"
    }
   ],
   "source": [
    "learn.lr_find()"
   ]
  },
  {
   "cell_type": "code",
   "execution_count": 18,
   "id": "7d69943a-13d5-4453-859d-50dbbca98c6f",
   "metadata": {
    "tags": []
   },
   "outputs": [
    {
     "data": {
      "text/html": [
       "\n",
       "<style>\n",
       "    /* Turns off some styling */\n",
       "    progress {\n",
       "        /* gets rid of default border in Firefox and Opera. */\n",
       "        border: none;\n",
       "        /* Needs to be in here for Safari polyfill so background images work as expected. */\n",
       "        background-size: auto;\n",
       "    }\n",
       "    progress:not([value]), progress:not([value])::-webkit-progress-bar {\n",
       "        background: repeating-linear-gradient(45deg, #7e7e7e, #7e7e7e 10px, #5c5c5c 10px, #5c5c5c 20px);\n",
       "    }\n",
       "    .progress-bar-interrupted, .progress-bar-interrupted::-webkit-progress-bar {\n",
       "        background: #F44336;\n",
       "    }\n",
       "</style>\n"
      ],
      "text/plain": [
       "<IPython.core.display.HTML object>"
      ]
     },
     "metadata": {},
     "output_type": "display_data"
    },
    {
     "data": {
      "text/html": [
       "<table border=\"1\" class=\"dataframe\">\n",
       "  <thead>\n",
       "    <tr style=\"text-align: left;\">\n",
       "      <th>epoch</th>\n",
       "      <th>train_loss</th>\n",
       "      <th>valid_loss</th>\n",
       "      <th>BLEU</th>\n",
       "      <th>time</th>\n",
       "    </tr>\n",
       "  </thead>\n",
       "  <tbody>\n",
       "    <tr>\n",
       "      <td>0</td>\n",
       "      <td>0.670614</td>\n",
       "      <td>3.770569</td>\n",
       "      <td>6.738084</td>\n",
       "      <td>00:03</td>\n",
       "    </tr>\n",
       "    <tr>\n",
       "      <td>1</td>\n",
       "      <td>0.645523</td>\n",
       "      <td>3.761546</td>\n",
       "      <td>6.751950</td>\n",
       "      <td>00:03</td>\n",
       "    </tr>\n",
       "    <tr>\n",
       "      <td>2</td>\n",
       "      <td>0.620735</td>\n",
       "      <td>3.760152</td>\n",
       "      <td>6.828056</td>\n",
       "      <td>00:03</td>\n",
       "    </tr>\n",
       "    <tr>\n",
       "      <td>3</td>\n",
       "      <td>0.594641</td>\n",
       "      <td>3.759017</td>\n",
       "      <td>6.950408</td>\n",
       "      <td>00:04</td>\n",
       "    </tr>\n",
       "    <tr>\n",
       "      <td>4</td>\n",
       "      <td>0.573126</td>\n",
       "      <td>3.764812</td>\n",
       "      <td>7.023500</td>\n",
       "      <td>00:03</td>\n",
       "    </tr>\n",
       "    <tr>\n",
       "      <td>5</td>\n",
       "      <td>0.554247</td>\n",
       "      <td>3.768945</td>\n",
       "      <td>6.872051</td>\n",
       "      <td>00:03</td>\n",
       "    </tr>\n",
       "    <tr>\n",
       "      <td>6</td>\n",
       "      <td>0.531228</td>\n",
       "      <td>3.776128</td>\n",
       "      <td>7.050593</td>\n",
       "      <td>00:03</td>\n",
       "    </tr>\n",
       "    <tr>\n",
       "      <td>7</td>\n",
       "      <td>0.511550</td>\n",
       "      <td>3.781280</td>\n",
       "      <td>7.133960</td>\n",
       "      <td>00:03</td>\n",
       "    </tr>\n",
       "    <tr>\n",
       "      <td>8</td>\n",
       "      <td>0.493804</td>\n",
       "      <td>3.787214</td>\n",
       "      <td>7.190992</td>\n",
       "      <td>00:03</td>\n",
       "    </tr>\n",
       "    <tr>\n",
       "      <td>9</td>\n",
       "      <td>0.483398</td>\n",
       "      <td>3.788148</td>\n",
       "      <td>7.085023</td>\n",
       "      <td>00:03</td>\n",
       "    </tr>\n",
       "  </tbody>\n",
       "</table>"
      ],
      "text/plain": [
       "<IPython.core.display.HTML object>"
      ]
     },
     "metadata": {},
     "output_type": "display_data"
    }
   ],
   "source": [
    "learn.fit_flat_cos(10, 1e-4)"
   ]
  },
  {
   "cell_type": "code",
   "execution_count": 19,
   "id": "2667cc72-bbe9-4d60-b44d-d6d37771b1ef",
   "metadata": {
    "tags": []
   },
   "outputs": [
    {
     "data": {
      "application/vnd.jupyter.widget-view+json": {
       "model_id": "1070cee42c9c409d9c25e27aa3038ae2",
       "version_major": 2,
       "version_minor": 0
      },
      "text/plain": [
       "  0%|          | 0/1471 [00:00<?, ?it/s]"
      ]
     },
     "metadata": {},
     "output_type": "display_data"
    },
    {
     "data": {
      "text/plain": [
       "7.030091409276755"
      ]
     },
     "execution_count": 19,
     "metadata": {},
     "output_type": "execute_result"
    }
   ],
   "source": [
    "translate_func = partial(\n",
    "    translate, model=model, tokenizer=tokenizer, src_lang=\"dyu_Latn\", tgt_lang=\"fra_Latn\"\n",
    ")\n",
    "calculate_bleu(\n",
    "    model, df_valid, translate_func, src_lang=\"dyu_Latn\", tgt_lang=\"fra_Latn\",\n",
    "    preproc_func=preproc\n",
    ")"
   ]
  },
  {
   "cell_type": "markdown",
   "id": "d6bdf3e2-98ed-49f1-938f-743272da603d",
   "metadata": {},
   "source": [
    "Convert the model to `bfloat16`:"
   ]
  },
  {
   "cell_type": "code",
   "execution_count": 20,
   "id": "94dd8c11-0632-4e65-8429-211f98f1a598",
   "metadata": {
    "tags": []
   },
   "outputs": [
    {
     "name": "stdout",
     "output_type": "stream",
     "text": [
      "Memory footprint: 0.01GB\n"
     ]
    }
   ],
   "source": [
    "model.bfloat16()\n",
    "print(f\"Memory footprint: {model.get_memory_footprint() / 1024**3 :.2f}GB\")"
   ]
  },
  {
   "cell_type": "code",
   "execution_count": 21,
   "id": "0db98d51-282e-4f32-a7b1-a6e6495c58ed",
   "metadata": {
    "tags": []
   },
   "outputs": [
    {
     "data": {
      "application/vnd.jupyter.widget-view+json": {
       "model_id": "ecc4feea6def4bcb9ed0351a33302d10",
       "version_major": 2,
       "version_minor": 0
      },
      "text/plain": [
       "  0%|          | 0/1471 [00:00<?, ?it/s]"
      ]
     },
     "metadata": {},
     "output_type": "display_data"
    },
    {
     "data": {
      "text/plain": [
       "7.258736791157131"
      ]
     },
     "execution_count": 21,
     "metadata": {},
     "output_type": "execute_result"
    }
   ],
   "source": [
    "translate_func = partial(\n",
    "    translate, model=model, tokenizer=tokenizer, src_lang=\"dyu_Latn\", tgt_lang=\"fra_Latn\"\n",
    ")\n",
    "calculate_bleu(\n",
    "    model, df_valid, translate_func, src_lang=\"dyu_Latn\", tgt_lang=\"fra_Latn\",\n",
    "    preproc_func=preproc\n",
    ")"
   ]
  },
  {
   "cell_type": "markdown",
   "id": "4e18db90-3005-41e0-9517-fc717df37936",
   "metadata": {},
   "source": [
    "## Save the  model"
   ]
  },
  {
   "cell_type": "code",
   "execution_count": 22,
   "id": "222e231a-3552-4af4-9407-9199b7def561",
   "metadata": {
    "tags": []
   },
   "outputs": [
    {
     "name": "stderr",
     "output_type": "stream",
     "text": [
      "Some non-default generation parameters are set in the model config. These should go into a GenerationConfig file (https://huggingface.co/docs/transformers/generation_strategies#save-a-custom-decoding-strategy-with-your-model) instead. This warning will be raised to an exception in v4.41.\n",
      "Non-default generation parameters: {'max_length': 200}\n"
     ]
    }
   ],
   "source": [
    "MODEL_SAVE_PATH = 'saved_models/nllb-dyu-fr-10MB'\n",
    "model.save_pretrained(MODEL_SAVE_PATH)\n",
    "tokenizer.save_pretrained(MODEL_SAVE_PATH)"
   ]
  },
  {
   "cell_type": "markdown",
   "id": "e22dc77d-6149-4aa6-b38c-d1073781ecf6",
   "metadata": {},
   "source": [
    "A few test translations:"
   ]
  },
  {
   "cell_type": "code",
   "execution_count": 23,
   "id": "32bf7e70-097b-4496-be49-3b44d6078b17",
   "metadata": {
    "tags": []
   },
   "outputs": [
    {
     "name": "stdout",
     "output_type": "stream",
     "text": [
      "i tɔgɔ bi cogodɔ\n"
     ]
    },
    {
     "data": {
      "text/plain": [
       "['comment t’appelles tu']"
      ]
     },
     "execution_count": 23,
     "metadata": {},
     "output_type": "execute_result"
    }
   ],
   "source": [
    "text = preproc(df_valid.iloc[0, 0])\n",
    "print(text)\n",
    "translate_func(text)"
   ]
  },
  {
   "cell_type": "code",
   "execution_count": 23,
   "id": "b5db1ac8-a05e-4cdd-b7df-924ac4341d2d",
   "metadata": {
    "tags": []
   },
   "outputs": [
    {
     "name": "stdout",
     "output_type": "stream",
     "text": [
      "i tɔgɔ bi cogodɔ\n"
     ]
    },
    {
     "data": {
      "text/plain": [
       "['comment s’appelle t il']"
      ]
     },
     "execution_count": 23,
     "metadata": {},
     "output_type": "execute_result"
    }
   ],
   "source": [
    "text = preproc(df_valid.iloc[0, 0])\n",
    "print(text)\n",
    "translate_func(text)"
   ]
  },
  {
   "cell_type": "code",
   "execution_count": 24,
   "id": "67283f8d-aa30-444b-8964-9dcc424b4722",
   "metadata": {
    "tags": []
   },
   "outputs": [
    {
     "name": "stdout",
     "output_type": "stream",
     "text": [
      "puɛn saba fɔlɔ\n"
     ]
    },
    {
     "data": {
      "text/plain": [
       "[\"trois points d'avance\"]"
      ]
     },
     "execution_count": 24,
     "metadata": {},
     "output_type": "execute_result"
    }
   ],
   "source": [
    "text = preproc(df_valid.iloc[1, 0])\n",
    "print(text)\n",
    "translate_func(text)"
   ]
  },
  {
   "cell_type": "code",
   "execution_count": 24,
   "id": "6a39d1bc-ec73-4ae3-9c42-8f7decd6adcb",
   "metadata": {
    "tags": []
   },
   "outputs": [
    {
     "name": "stdout",
     "output_type": "stream",
     "text": [
      "puɛn saba fɔlɔ\n"
     ]
    },
    {
     "data": {
      "text/plain": [
       "[\"trois points d'avance\"]"
      ]
     },
     "execution_count": 24,
     "metadata": {},
     "output_type": "execute_result"
    }
   ],
   "source": [
    "text = preproc(df_valid.iloc[1, 0])\n",
    "print(text)\n",
    "translate_func(text)"
   ]
  },
  {
   "cell_type": "code",
   "execution_count": 25,
   "id": "a933309b-c6b6-484b-9522-0c96731ac966",
   "metadata": {
    "tags": []
   },
   "outputs": [
    {
     "name": "stdout",
     "output_type": "stream",
     "text": [
      "tile bena\n"
     ]
    },
    {
     "data": {
      "text/plain": [
       "['le soleil']"
      ]
     },
     "execution_count": 25,
     "metadata": {},
     "output_type": "execute_result"
    }
   ],
   "source": [
    "text = preproc(df_valid.iloc[2, 0])\n",
    "print(text)\n",
    "translate_func(text)"
   ]
  },
  {
   "cell_type": "code",
   "execution_count": 25,
   "id": "03d5f586-0c3a-4edc-96d7-9438b707b5db",
   "metadata": {
    "tags": []
   },
   "outputs": [
    {
     "name": "stdout",
     "output_type": "stream",
     "text": [
      "tile bena\n"
     ]
    },
    {
     "data": {
      "text/plain": [
       "['la journée est tombée']"
      ]
     },
     "execution_count": 25,
     "metadata": {},
     "output_type": "execute_result"
    }
   ],
   "source": [
    "text = preproc(df_valid.iloc[2, 0])\n",
    "print(text)\n",
    "translate_func(text)"
   ]
  },
  {
   "cell_type": "code",
   "execution_count": null,
   "id": "febcc259-b3d4-412b-a433-55f3758f0fde",
   "metadata": {},
   "outputs": [],
   "source": []
  }
 ],
 "metadata": {
  "kernelspec": {
   "display_name": "Python 3 (ipykernel)",
   "language": "python",
   "name": "python3"
  },
  "language_info": {
   "codemirror_mode": {
    "name": "ipython",
    "version": 3
   },
   "file_extension": ".py",
   "mimetype": "text/x-python",
   "name": "python",
   "nbconvert_exporter": "python",
   "pygments_lexer": "ipython3",
   "version": "3.11.7"
  }
 },
 "nbformat": 4,
 "nbformat_minor": 5
}
